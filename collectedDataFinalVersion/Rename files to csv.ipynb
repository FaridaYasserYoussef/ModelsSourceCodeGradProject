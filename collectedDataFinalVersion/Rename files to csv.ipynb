{
 "cells": [
  {
   "cell_type": "code",
   "execution_count": 2,
   "id": "a7369dc5",
   "metadata": {},
   "outputs": [
    {
     "name": "stdout",
     "output_type": "stream",
     "text": [
      "Renamed: suddenbraking\\2024-04-0922.05.56 -> suddenbraking\\2024-04-0922.05.56.csv\n",
      "Renamed: suddenbraking\\2024-04-0922.06.40 -> suddenbraking\\2024-04-0922.06.40.csv\n",
      "Renamed: suddenbraking\\2024-04-0922.07.12 -> suddenbraking\\2024-04-0922.07.12.csv\n",
      "Renamed: suddenbraking\\2024-04-0922.08.09 -> suddenbraking\\2024-04-0922.08.09.csv\n",
      "Renamed: suddenbraking\\2024-04-0922.09.12 -> suddenbraking\\2024-04-0922.09.12.csv\n",
      "Renamed: suddenbraking\\2024-04-0922.09.58 -> suddenbraking\\2024-04-0922.09.58.csv\n",
      "Renamed: suddenbraking\\2024-04-0922.11.01 -> suddenbraking\\2024-04-0922.11.01.csv\n",
      "Renamed: suddenbraking\\2024-04-0922.12.01 -> suddenbraking\\2024-04-0922.12.01.csv\n",
      "Renamed: suddenbraking\\2024-04-0922.12.57 -> suddenbraking\\2024-04-0922.12.57.csv\n",
      "Renamed: suddenbraking\\2024-04-0922.13.59 -> suddenbraking\\2024-04-0922.13.59.csv\n",
      "Renamed: suddenbraking\\2024-04-0922.14.39 -> suddenbraking\\2024-04-0922.14.39.csv\n",
      "Renamed: suddenbraking\\2024-04-0922.15.32 -> suddenbraking\\2024-04-0922.15.32.csv\n",
      "Renamed: suddenbraking\\2024-04-0922.16.31 -> suddenbraking\\2024-04-0922.16.31.csv\n",
      "Renamed: suddenbraking\\2024-04-0922.17.28 -> suddenbraking\\2024-04-0922.17.28.csv\n",
      "Renamed: suddenbraking\\2024-04-0922.18.07 -> suddenbraking\\2024-04-0922.18.07.csv\n",
      "Renamed: suddenbraking\\2024-04-1022.29.35 -> suddenbraking\\2024-04-1022.29.35.csv\n",
      "Renamed: suddenbraking\\2024-04-1022.31.08 -> suddenbraking\\2024-04-1022.31.08.csv\n",
      "Renamed: suddenbraking\\2024-04-1522.24.59 -> suddenbraking\\2024-04-1522.24.59.csv\n",
      "Renamed: suddenbraking\\2024-04-1522.26.59 -> suddenbraking\\2024-04-1522.26.59.csv\n",
      "Renamed: suddenbraking\\2024-04-1522.30.00 -> suddenbraking\\2024-04-1522.30.00.csv\n",
      "Renamed: suddenbraking\\2024-04-1522.31.04 -> suddenbraking\\2024-04-1522.31.04.csv\n",
      "Renamed: suddenbraking\\2024-04-1522.31.53 -> suddenbraking\\2024-04-1522.31.53.csv\n",
      "Renamed: suddenbraking\\2024-04-1522.32.52 -> suddenbraking\\2024-04-1522.32.52.csv\n",
      "Renamed: suddenbraking\\2024-04-1522.34.34 -> suddenbraking\\2024-04-1522.34.34.csv\n",
      "Renamed: suddenbraking\\2024-04-1522.35.29 -> suddenbraking\\2024-04-1522.35.29.csv\n"
     ]
    }
   ],
   "source": [
    "import os\n",
    "\n",
    "def add_csv_extension(folder_path):\n",
    "    try:\n",
    "        # List all files in the specified directory\n",
    "        for filename in os.listdir(folder_path):\n",
    "            # Create full file path\n",
    "            old_file = os.path.join(folder_path, filename)\n",
    "            \n",
    "            # Check if it is a file and doesn't already end with .csv\n",
    "            if os.path.isfile(old_file) and not filename.endswith('.csv'):\n",
    "                new_file = f\"{old_file}.csv\"\n",
    "                os.rename(old_file, new_file)\n",
    "                print(f\"Renamed: {old_file} -> {new_file}\")\n",
    "                \n",
    "    except Exception as e:\n",
    "        print(f\"An error occurred: {e}\")\n",
    "\n",
    "# Specify the folder path\n",
    "folder_path = \"suddenbraking\"\n",
    "add_csv_extension(folder_path)\n"
   ]
  },
  {
   "cell_type": "code",
   "execution_count": null,
   "id": "1a14d516",
   "metadata": {},
   "outputs": [],
   "source": []
  }
 ],
 "metadata": {
  "kernelspec": {
   "display_name": "Python 3 (ipykernel)",
   "language": "python",
   "name": "python3"
  },
  "language_info": {
   "codemirror_mode": {
    "name": "ipython",
    "version": 3
   },
   "file_extension": ".py",
   "mimetype": "text/x-python",
   "name": "python",
   "nbconvert_exporter": "python",
   "pygments_lexer": "ipython3",
   "version": "3.11.5"
  }
 },
 "nbformat": 4,
 "nbformat_minor": 5
}
