{
 "cells": [
  {
   "cell_type": "markdown",
   "id": "5c025840",
   "metadata": {},
   "source": [
    "# CNN-LSTM"
   ]
  },
  {
   "cell_type": "code",
   "execution_count": 1,
   "id": "d22c667d",
   "metadata": {},
   "outputs": [],
   "source": [
    "%matplotlib inline\n",
    "\n",
    "\n",
    "from sklearn.decomposition import PCA\n",
    "import keras\n",
    "from keras.utils import to_categorical\n",
    "from keras.models import Sequential, Model\n",
    "from keras.layers import Dense, Conv1D, Flatten, concatenate, Input, LSTM, BatchNormalization\n",
    "from keras.optimizers import Adam\n",
    "import sklearn\n",
    "import tensorflow as tf\n",
    "from sklearn.model_selection import train_test_split\n",
    "from sklearn.preprocessing import StandardScaler\n",
    "import sklearn.preprocessing\n",
    "\n",
    "#Imports\n",
    "import pandas as pd\n",
    "import numpy as np\n",
    "from keras import layers\n",
    "from keras.utils import to_categorical\n",
    "\n",
    "\n",
    "#Splitting data\n",
    "from torch.utils.data import Dataset, DataLoader\n",
    "from sklearn.model_selection import train_test_split\n",
    "\n",
    "\n",
    "\n",
    "\n",
    "import matplotlib.pyplot as plt\n",
    "import seaborn as sns\n",
    "from sklearn.metrics import confusion_matrix\n",
    "from sklearn.metrics import confusion_matrix, ConfusionMatrixDisplay\n",
    "from sklearn.metrics import classification_report\n",
    "from sklearn.metrics import precision_score, recall_score\n",
    "from sklearn.metrics import f1_score"
   ]
  },
  {
   "cell_type": "markdown",
   "id": "71ebdb92",
   "metadata": {},
   "source": [
    "##### 1) Loading Data"
   ]
  },
  {
   "cell_type": "code",
   "execution_count": 2,
   "id": "c22efd70",
   "metadata": {},
   "outputs": [],
   "source": [
    "import os\n",
    "files_train = []\n",
    "for i in os.listdir(\"zigzag/train\"):\n",
    "    files_train.append([\"zigzag/train/\"+i, \"zigzag\"])\n",
    "    \n",
    "    \n",
    "for i in os.listdir(\"speedbumppassing/train\"):\n",
    "    files_train.append([\"speedbumppassing/train/\"+i, \"speedbump\"])\n",
    "    \n",
    "for i in os.listdir(\"potholes/train\"):\n",
    "    files_train.append([\"potholes/train/\"+i, \"pothole\"])"
   ]
  },
  {
   "cell_type": "code",
   "execution_count": 3,
   "id": "3de9b1a2",
   "metadata": {},
   "outputs": [],
   "source": [
    "import os\n",
    "files_test = []\n",
    "for i in os.listdir(\"zigzag/test\"):\n",
    "    files_test.append([\"zigzag/test/\"+i, \"zigzag\"])\n",
    "    \n",
    "    \n",
    "for i in os.listdir(\"speedbumppassing/test\"):\n",
    "    files_test.append([\"speedbumppassing/test/\"+i, \"speedbump\"])\n",
    "    \n",
    "for i in os.listdir(\"potholes/test\"):\n",
    "    files_test.append([\"potholes/test/\"+i, \"pothole\"])"
   ]
  },
  {
   "cell_type": "code",
   "execution_count": 4,
   "id": "dff7240e",
   "metadata": {},
   "outputs": [],
   "source": [
    "import pathlib\n",
    "import csv\n",
    "\n",
    "import numpy as np\n",
    "\n",
    "\n",
    "def csv2numpy(file_name):\n",
    "    \"\"\"Read multidimensional signal from file\"\"\"\n",
    "    # Read data from file.\n",
    "    data = np.genfromtxt(file_name, delimiter=\",\", skip_header=1)\n",
    "    # Return all columns but the first one (as it is the index).\n",
    "    return data[:, 1:-1]\n",
    "\n",
    "\n",
    "\n",
    "def get_crops(files, length, discard_start, discard_end, padding_mode=None):\n",
    "        \"\"\"Return list with crops from files.\"\"\"\n",
    "        crops = []\n",
    "        # Iterate over data files.\n",
    "        for file, class_ in files:\n",
    "            # Read from file.\n",
    "            signal = csv2numpy(file)\n",
    "            # Crop start and end.\n",
    "            signal = signal[discard_start:(signal.shape[0] - discard_end)]\n",
    "            windows, remainder = divmod(signal.shape[0], length)\n",
    "            if padding_mode and remainder != 0:\n",
    "                # Apply padding with given padding mode.\n",
    "                padding = length * (windows + 1) - signal.shape[0]\n",
    "                signal = np.pad(signal, ((0, padding), (0, 0)), padding_mode)\n",
    "            elif padding_mode is None:\n",
    "                # Crop the end.\n",
    "                signal = signal[:(length * windows)]\n",
    "            # Obtain crops from <discard_start> to <discard-end>.\n",
    "            for i in range(0, signal.shape[0], length):\n",
    "                crop = signal[i:(i + length)]\n",
    "                crops.append([crop, class_])\n",
    "\n",
    "        return crops"
   ]
  },
  {
   "cell_type": "code",
   "execution_count": 5,
   "id": "05cc9d8f",
   "metadata": {},
   "outputs": [],
   "source": [
    "crops_train = get_crops(files_train, 245, 50, 50)\n",
    "crops_test = get_crops(files_test, 245, 50, 50)"
   ]
  },
  {
   "cell_type": "code",
   "execution_count": 6,
   "id": "75053ba1",
   "metadata": {},
   "outputs": [],
   "source": [
    "label_encoder = sklearn.preprocessing.LabelEncoder()\n",
    "label_encoder.fit([\"zigzag\", \"speedbump\", \"pothole\"]);"
   ]
  },
  {
   "cell_type": "code",
   "execution_count": 7,
   "id": "d07109be",
   "metadata": {},
   "outputs": [],
   "source": [
    "X_train = []\n",
    "y_train = []\n",
    "for i in crops_train:\n",
    "    X_train.append(i[0])\n",
    "    y_train.append(i[1])"
   ]
  },
  {
   "cell_type": "code",
   "execution_count": 8,
   "id": "40979038",
   "metadata": {},
   "outputs": [],
   "source": [
    "X_test = []\n",
    "y_test = []\n",
    "for i in crops_test:\n",
    "    X_test.append(i[0])\n",
    "    y_test.append(i[1])"
   ]
  },
  {
   "cell_type": "code",
   "execution_count": 9,
   "id": "bac3faf9",
   "metadata": {},
   "outputs": [],
   "source": [
    "X_train = np.array(X_train)\n",
    "X_test = np.array(X_test)"
   ]
  },
  {
   "cell_type": "code",
   "execution_count": 10,
   "id": "db44ca61",
   "metadata": {},
   "outputs": [],
   "source": [
    "y_train = to_categorical(label_encoder.transform(y_train))\n",
    "y_test = to_categorical(label_encoder.transform(y_test))"
   ]
  },
  {
   "cell_type": "code",
   "execution_count": 11,
   "id": "548d3352",
   "metadata": {},
   "outputs": [
    {
     "data": {
      "text/plain": [
       "(16618, 245, 6)"
      ]
     },
     "execution_count": 11,
     "metadata": {},
     "output_type": "execute_result"
    }
   ],
   "source": [
    "X_train.shape"
   ]
  },
  {
   "cell_type": "markdown",
   "id": "db8c5d74",
   "metadata": {},
   "source": [
    "##### 3) Model Architecture"
   ]
  },
  {
   "cell_type": "code",
   "execution_count": 12,
   "id": "fee90bb0",
   "metadata": {},
   "outputs": [],
   "source": [
    "from keras.models import Sequential\n",
    "from keras.layers import Dense, LSTM, BatchNormalization\n",
    "from keras.optimizers import Adam\n",
    "from keras.callbacks import ReduceLROnPlateau, EarlyStopping\n",
    "from keras.regularizers import l2\n",
    "from time import time"
   ]
  },
  {
   "cell_type": "code",
   "execution_count": 13,
   "id": "34a247ff",
   "metadata": {},
   "outputs": [
    {
     "name": "stdout",
     "output_type": "stream",
     "text": [
      "Epoch 1/30\n",
      "520/520 [==============================] - 139s 257ms/step - loss: 0.5637 - accuracy: 0.9163 - val_loss: 1.5636 - val_accuracy: 0.6903\n",
      "Epoch 2/30\n",
      "520/520 [==============================] - 140s 269ms/step - loss: 0.3614 - accuracy: 0.9170 - val_loss: 0.9517 - val_accuracy: 0.6891\n",
      "Epoch 3/30\n",
      "520/520 [==============================] - 135s 260ms/step - loss: 0.3503 - accuracy: 0.9170 - val_loss: 1.2422 - val_accuracy: 0.6903\n",
      "Epoch 4/30\n",
      "520/520 [==============================] - 151s 291ms/step - loss: 0.3369 - accuracy: 0.9177 - val_loss: 1.2411 - val_accuracy: 0.6830\n",
      "Epoch 5/30\n",
      "520/520 [==============================] - 165s 318ms/step - loss: 0.3315 - accuracy: 0.9173 - val_loss: 1.0911 - val_accuracy: 0.6854\n",
      "Epoch 6/30\n",
      "520/520 [==============================] - 180s 345ms/step - loss: 0.3222 - accuracy: 0.9171 - val_loss: 1.0959 - val_accuracy: 0.6879\n",
      "Epoch 7/30\n",
      "520/520 [==============================] - 161s 309ms/step - loss: 0.2814 - accuracy: 0.9270 - val_loss: 0.9029 - val_accuracy: 0.8397\n",
      "Epoch 8/30\n",
      "520/520 [==============================] - 160s 308ms/step - loss: 0.2256 - accuracy: 0.9475 - val_loss: 0.5666 - val_accuracy: 0.8433\n",
      "Epoch 9/30\n",
      "520/520 [==============================] - 162s 311ms/step - loss: 0.2126 - accuracy: 0.9489 - val_loss: 0.7041 - val_accuracy: 0.8384\n",
      "Epoch 10/30\n",
      "520/520 [==============================] - 162s 311ms/step - loss: 0.2111 - accuracy: 0.9502 - val_loss: 0.6331 - val_accuracy: 0.8421\n",
      "Epoch 11/30\n",
      "520/520 [==============================] - 166s 319ms/step - loss: 0.2028 - accuracy: 0.9528 - val_loss: 0.8575 - val_accuracy: 0.8066\n",
      "Epoch 12/30\n",
      "520/520 [==============================] - 168s 322ms/step - loss: 0.1921 - accuracy: 0.9557 - val_loss: 0.6569 - val_accuracy: 0.8482\n",
      "Epoch 13/30\n",
      "520/520 [==============================] - 169s 325ms/step - loss: 0.1891 - accuracy: 0.9579 - val_loss: 0.7964 - val_accuracy: 0.8384\n",
      "Epoch 14/30\n",
      "520/520 [==============================] - 158s 305ms/step - loss: 0.1776 - accuracy: 0.9591 - val_loss: 0.6320 - val_accuracy: 0.8397\n",
      "Epoch 15/30\n",
      "520/520 [==============================] - 161s 310ms/step - loss: 0.1723 - accuracy: 0.9609 - val_loss: 1.0878 - val_accuracy: 0.8274\n",
      "Epoch 16/30\n",
      "520/520 [==============================] - 174s 334ms/step - loss: 0.1749 - accuracy: 0.9599 - val_loss: 0.7253 - val_accuracy: 0.7870\n",
      "Epoch 17/30\n",
      "520/520 [==============================] - 175s 336ms/step - loss: 0.1817 - accuracy: 0.9602 - val_loss: 0.8089 - val_accuracy: 0.8446\n",
      "Epoch 18/30\n",
      "520/520 [==============================] - 161s 309ms/step - loss: 0.1673 - accuracy: 0.9617 - val_loss: 0.9971 - val_accuracy: 0.8421\n",
      "Epoch 19/30\n",
      "520/520 [==============================] - 156s 301ms/step - loss: 0.1709 - accuracy: 0.9616 - val_loss: 0.8559 - val_accuracy: 0.8507\n",
      "Epoch 20/30\n",
      "520/520 [==============================] - 151s 290ms/step - loss: 0.1681 - accuracy: 0.9621 - val_loss: 0.9401 - val_accuracy: 0.8470\n",
      "Epoch 21/30\n",
      "520/520 [==============================] - 142s 273ms/step - loss: 0.1658 - accuracy: 0.9611 - val_loss: 0.7666 - val_accuracy: 0.8299\n",
      "Epoch 22/30\n",
      "520/520 [==============================] - 140s 270ms/step - loss: 0.1670 - accuracy: 0.9619 - val_loss: 0.7683 - val_accuracy: 0.8556\n",
      "Epoch 23/30\n",
      "520/520 [==============================] - 138s 265ms/step - loss: 0.1649 - accuracy: 0.9638 - val_loss: 0.8950 - val_accuracy: 0.8274\n",
      "Epoch 24/30\n",
      "520/520 [==============================] - 141s 271ms/step - loss: 0.1635 - accuracy: 0.9632 - val_loss: 0.7506 - val_accuracy: 0.8409\n",
      "Epoch 25/30\n",
      "520/520 [==============================] - 158s 305ms/step - loss: 0.1655 - accuracy: 0.9626 - val_loss: 0.6615 - val_accuracy: 0.8446\n",
      "Epoch 26/30\n",
      "520/520 [==============================] - 161s 310ms/step - loss: 0.1657 - accuracy: 0.9633 - val_loss: 0.6944 - val_accuracy: 0.8421\n",
      "Epoch 27/30\n",
      "520/520 [==============================] - 161s 309ms/step - loss: 0.1640 - accuracy: 0.9615 - val_loss: 0.7050 - val_accuracy: 0.8421\n",
      "Epoch 28/30\n",
      "520/520 [==============================] - 163s 313ms/step - loss: 0.1658 - accuracy: 0.9634 - val_loss: 0.6330 - val_accuracy: 0.8384\n",
      "Epoch 29/30\n",
      "520/520 [==============================] - 149s 286ms/step - loss: 0.1567 - accuracy: 0.9659 - val_loss: 0.7561 - val_accuracy: 0.8348\n",
      "Epoch 30/30\n",
      "520/520 [==============================] - 141s 271ms/step - loss: 0.1589 - accuracy: 0.9637 - val_loss: 0.5967 - val_accuracy: 0.8348\n"
     ]
    },
    {
     "data": {
      "text/plain": [
       "<keras.src.callbacks.History at 0x1d7198e9d10>"
      ]
     },
     "execution_count": 13,
     "metadata": {},
     "output_type": "execute_result"
    }
   ],
   "source": [
    "from tensorflow.keras.models import Sequential\n",
    "from tensorflow.keras.layers import TimeDistributed, Conv1D, MaxPooling1D, Flatten, LSTM, Dense\n",
    "from tensorflow.keras.regularizers import l2\n",
    "\n",
    "# Define the model with L2 regularization\n",
    "model = Sequential()\n",
    "\n",
    "# TimeDistributed(Conv1D()) layer with parameters and L2 regularization\n",
    "model.add(TimeDistributed(Conv1D(filters=16, kernel_size=3, activation='relu', kernel_regularizer=l2(0.01)), input_shape=(245, 6, 1)))\n",
    "\n",
    "# TimeDistributed(MaxPooling1D()) layer with parameters and padding\n",
    "model.add(TimeDistributed(MaxPooling1D(pool_size=2, padding='same')))\n",
    "\n",
    "# TimeDistributed(Conv1D()) layer with parameters and L2 regularization\n",
    "model.add(TimeDistributed(Conv1D(filters=8, kernel_size=3, activation='relu', padding='same', kernel_regularizer=l2(0.01))))\n",
    "\n",
    "# TimeDistributed(MaxPooling1D()) layer with parameters and padding\n",
    "model.add(TimeDistributed(MaxPooling1D(pool_size=2, padding='same')))\n",
    "\n",
    "# TimeDistributed(Conv1D()) layer with parameters and L2 regularization\n",
    "model.add(TimeDistributed(Conv1D(filters=64, kernel_size=3, activation='relu', padding='same', kernel_regularizer=l2(0.01))))\n",
    "\n",
    "# TimeDistributed(MaxPooling1D()) layer with parameters and padding\n",
    "model.add(TimeDistributed(MaxPooling1D(pool_size=2, padding='same')))\n",
    "\n",
    "# TimeDistributed(Conv1D()) layer with parameters and L2 regularization\n",
    "model.add(TimeDistributed(Conv1D(filters=8, kernel_size=3, activation='relu', padding='same', kernel_regularizer=l2(0.01))))\n",
    "\n",
    "# TimeDistributed(MaxPooling1D()) layer with parameters and padding\n",
    "model.add(TimeDistributed(MaxPooling1D(pool_size=2, padding='same')))\n",
    "\n",
    "# TimeDistributed(Flatten()) layer\n",
    "model.add(TimeDistributed(Flatten()))\n",
    "\n",
    "# Define LSTM model with parameters and L2 regularization\n",
    "model.add(LSTM(units=60, return_sequences=True, kernel_regularizer=l2(0.01)))\n",
    "\n",
    "# Additional LSTM layer with L2 regularization\n",
    "model.add(LSTM(units=70, return_sequences=True, kernel_regularizer=l2(0.01)))\n",
    "\n",
    "# Flatten layer outside TimeDistributed\n",
    "model.add(Flatten())\n",
    "\n",
    "# Dense layer with parameters and L2 regularization\n",
    "model.add(Dense(units=3, activation='softmax', kernel_regularizer=l2(0.01)))  # Adjust units to match the number of output classes\n",
    "\n",
    "model.compile(optimizer='adam', loss='categorical_crossentropy', metrics=['accuracy'])\n",
    "\n",
    "# Train the model\n",
    "model.fit(X_train, y_train, epochs=30, batch_size=32, validation_data=(X_test, y_test))"
   ]
  },
  {
   "cell_type": "code",
   "execution_count": 36,
   "id": "d6f0f0f1",
   "metadata": {},
   "outputs": [],
   "source": []
  },
  {
   "cell_type": "code",
   "execution_count": null,
   "id": "c08e96af",
   "metadata": {},
   "outputs": [],
   "source": [
    "from keras.models import Sequential\n",
    "from keras.layers import Dense, LSTM, BatchNormalization\n",
    "from keras.optimizers import Adam\n",
    "from keras.callbacks import ReduceLROnPlateau, EarlyStopping\n",
    "from keras.regularizers import l2\n",
    "from time import time"
   ]
  },
  {
   "cell_type": "code",
   "execution_count": null,
   "id": "4be2a623",
   "metadata": {},
   "outputs": [],
   "source": []
  },
  {
   "cell_type": "markdown",
   "id": "49d1862e",
   "metadata": {},
   "source": [
    "##### 4) Training the model"
   ]
  },
  {
   "cell_type": "code",
   "execution_count": null,
   "id": "d926238a",
   "metadata": {},
   "outputs": [],
   "source": []
  },
  {
   "cell_type": "markdown",
   "id": "900c361d",
   "metadata": {},
   "source": [
    "##### 5) Finding Training and Testing Accuracy"
   ]
  },
  {
   "cell_type": "code",
   "execution_count": 1,
   "id": "b301fb40",
   "metadata": {},
   "outputs": [
    {
     "ename": "NameError",
     "evalue": "name 'plt' is not defined",
     "output_type": "error",
     "traceback": [
      "\u001b[1;31m---------------------------------------------------------------------------\u001b[0m",
      "\u001b[1;31mNameError\u001b[0m                                 Traceback (most recent call last)",
      "Cell \u001b[1;32mIn[1], line 2\u001b[0m\n\u001b[0;32m      1\u001b[0m \u001b[38;5;66;03m# Plot the training and testing accuracy\u001b[39;00m\n\u001b[1;32m----> 2\u001b[0m plt\u001b[38;5;241m.\u001b[39mplot(history\u001b[38;5;241m.\u001b[39mhistory[\u001b[38;5;124m'\u001b[39m\u001b[38;5;124maccuracy\u001b[39m\u001b[38;5;124m'\u001b[39m])\n\u001b[0;32m      3\u001b[0m plt\u001b[38;5;241m.\u001b[39mplot(history\u001b[38;5;241m.\u001b[39mhistory[\u001b[38;5;124m'\u001b[39m\u001b[38;5;124mval_accuracy\u001b[39m\u001b[38;5;124m'\u001b[39m])\n\u001b[0;32m      4\u001b[0m plt\u001b[38;5;241m.\u001b[39mtitle(\u001b[38;5;124m'\u001b[39m\u001b[38;5;124mModel Accuracy\u001b[39m\u001b[38;5;124m'\u001b[39m)\n",
      "\u001b[1;31mNameError\u001b[0m: name 'plt' is not defined"
     ]
    }
   ],
   "source": [
    "# Plot the training and testing accuracy\n",
    "plt.plot(history.history['accuracy'])\n",
    "plt.plot(history.history['val_accuracy'])\n",
    "plt.title('Model Accuracy')\n",
    "plt.ylabel('Accuracy')\n",
    "plt.xlabel('Epoch')\n",
    "plt.ylim([0, 1])\n",
    "plt.legend(['Train', 'Test'], loc='upper left')\n",
    "plt.show()"
   ]
  },
  {
   "cell_type": "code",
   "execution_count": 15,
   "id": "17203e50",
   "metadata": {},
   "outputs": [
    {
     "name": "stdout",
     "output_type": "stream",
     "text": [
      "26/26 [==============================] - 2s 67ms/step - loss: 0.5967 - accuracy: 0.8348\n"
     ]
    },
    {
     "data": {
      "text/plain": [
       "(0.5966648459434509, 0.8347613215446472)"
      ]
     },
     "execution_count": 15,
     "metadata": {},
     "output_type": "execute_result"
    }
   ],
   "source": [
    "test_loss,test_acc=model.evaluate(X_test, y_test)\n",
    "test_loss,test_acc"
   ]
  },
  {
   "cell_type": "markdown",
   "id": "98b8e725",
   "metadata": {},
   "source": [
    "##### 6) Compute and plot the confusion matrix for the three classes"
   ]
  },
  {
   "cell_type": "code",
   "execution_count": 17,
   "id": "96315803",
   "metadata": {},
   "outputs": [
    {
     "name": "stdout",
     "output_type": "stream",
     "text": [
      "26/26 [==============================] - 3s 65ms/step\n",
      "                  precision    recall  f1-score   support\n",
      "\n",
      "         pothole       0.95      0.95      0.95       127\n",
      "speedbumppassing       0.44      0.21      0.29       126\n",
      "          zigzag       0.85      0.95      0.90       564\n",
      "\n",
      "        accuracy                           0.83       817\n",
      "       macro avg       0.75      0.70      0.71       817\n",
      "    weighted avg       0.80      0.83      0.81       817\n",
      "\n"
     ]
    }
   ],
   "source": [
    "predictions=model.predict(X_test)\n",
    "class_labels = ['pothole', 'speedbumppassing', 'zigzag']\n",
    "predicted_class_labels = [class_labels[np.argmax(pred)] for pred in predictions]\n",
    "actual_class_labels=[class_labels[np.argmax(actual)] for actual in y_test]\n",
    "print(classification_report(actual_class_labels, predicted_class_labels))"
   ]
  },
  {
   "cell_type": "code",
   "execution_count": 18,
   "id": "bbc61133",
   "metadata": {},
   "outputs": [
    {
     "data": {
      "image/png": "[encoded data removed]",
      "text/plain": [
       "<Figure size 800x600 with 2 Axes>"
      ]
     },
     "metadata": {},
     "output_type": "display_data"
    }
   ],
   "source": [
    "conf_matrix = confusion_matrix(actual_class_labels, predicted_class_labels, labels=class_labels)\n",
    "plt.figure(figsize=(8, 6))\n",
    "sns.heatmap(conf_matrix, annot=True, fmt=\"d\", cmap=\"Purples\", xticklabels=class_labels, yticklabels=class_labels)\n",
    "plt.title('Confusion Matrix')\n",
    "plt.xlabel('Predicted Labels')\n",
    "plt.ylabel('True Labels')\n",
    "plt.show()"
   ]
  },
  {
   "cell_type": "markdown",
   "id": "fb880f81",
   "metadata": {},
   "source": [
    "##### 7) Saving the final results in Excel sheet"
   ]
  },
  {
   "cell_type": "code",
   "execution_count": 19,
   "id": "585779ac",
   "metadata": {},
   "outputs": [
    {
     "name": "stdout",
     "output_type": "stream",
     "text": [
      "Precision per class: [0.95275591 0.44262295 0.84896661]\n",
      "Recall per class: [0.95275591 0.21428571 0.94680851]\n"
     ]
    }
   ],
   "source": [
    "precision_per_class = precision_score(actual_class_labels, predicted_class_labels, average=None)\n",
    "recall_per_class = recall_score(actual_class_labels, predicted_class_labels, average=None)\n",
    "\n",
    "print(\"Precision per class:\", precision_per_class)\n",
    "print(\"Recall per class:\", recall_per_class)"
   ]
  },
  {
   "cell_type": "code",
   "execution_count": 20,
   "id": "57399a79",
   "metadata": {},
   "outputs": [
    {
     "name": "stdout",
     "output_type": "stream",
     "text": [
      "Micro F1 Score: 0.8347613219094248\n",
      "Macro F1 Score: 0.7122493626913613\n"
     ]
    }
   ],
   "source": [
    "f1_micro = f1_score(actual_class_labels, predicted_class_labels, average='micro')\n",
    "f1_macro = f1_score(actual_class_labels, predicted_class_labels, average='macro')\n",
    "\n",
    "print(\"Micro F1 Score:\", f1_micro)\n",
    "print(\"Macro F1 Score:\", f1_macro)"
   ]
  },
  {
   "cell_type": "code",
   "execution_count": 21,
   "id": "ac5fcc5a",
   "metadata": {},
   "outputs": [
    {
     "ename": "NameError",
     "evalue": "name 'history' is not defined",
     "output_type": "error",
     "traceback": [
      "\u001b[1;31m---------------------------------------------------------------------------\u001b[0m",
      "\u001b[1;31mNameError\u001b[0m                                 Traceback (most recent call last)",
      "Cell \u001b[1;32mIn[21], line 1\u001b[0m\n\u001b[1;32m----> 1\u001b[0m data\u001b[38;5;241m=\u001b[39m{\u001b[38;5;124m'\u001b[39m\u001b[38;5;124mSimpleCNN_Results\u001b[39m\u001b[38;5;124m'\u001b[39m:[\u001b[38;5;28mmax\u001b[39m(history\u001b[38;5;241m.\u001b[39mhistory[\u001b[38;5;124m'\u001b[39m\u001b[38;5;124maccuracy\u001b[39m\u001b[38;5;124m'\u001b[39m]),test_acc,f1_micro,f1_macro,precision_per_class[\u001b[38;5;241m0\u001b[39m],precision_per_class[\u001b[38;5;241m1\u001b[39m],precision_per_class[\u001b[38;5;241m2\u001b[39m],recall_per_class[\u001b[38;5;241m0\u001b[39m],recall_per_class[\u001b[38;5;241m1\u001b[39m],recall_per_class[\u001b[38;5;241m2\u001b[39m]]}\n\u001b[0;32m      2\u001b[0m result[\u001b[38;5;124m'\u001b[39m\u001b[38;5;124mSimpleCNN_Results\u001b[39m\u001b[38;5;124m'\u001b[39m]\u001b[38;5;241m=\u001b[39mpd\u001b[38;5;241m.\u001b[39mDataFrame(data,index\u001b[38;5;241m=\u001b[39m[\u001b[38;5;124m'\u001b[39m\u001b[38;5;124mTraining Accuracy\u001b[39m\u001b[38;5;124m'\u001b[39m,\u001b[38;5;124m'\u001b[39m\u001b[38;5;124mTesting Accuracy\u001b[39m\u001b[38;5;124m'\u001b[39m,\u001b[38;5;124m'\u001b[39m\u001b[38;5;124mMicro F1 Score\u001b[39m\u001b[38;5;124m'\u001b[39m,\u001b[38;5;124m'\u001b[39m\u001b[38;5;124mMacro F1 Score\u001b[39m\u001b[38;5;124m'\u001b[39m,\u001b[38;5;124m'\u001b[39m\u001b[38;5;124mPrecision for Negative sentiment\u001b[39m\u001b[38;5;124m'\u001b[39m,\u001b[38;5;124m'\u001b[39m\u001b[38;5;124mPrecision for Positive sentiment\u001b[39m\u001b[38;5;124m'\u001b[39m,\u001b[38;5;124m'\u001b[39m\u001b[38;5;124mPrecision for Neutral sentiment\u001b[39m\u001b[38;5;124m'\u001b[39m,\u001b[38;5;124m'\u001b[39m\u001b[38;5;124mRecall for Negative sentiment\u001b[39m\u001b[38;5;124m'\u001b[39m,\u001b[38;5;124m'\u001b[39m\u001b[38;5;124mRecall for Positive sentiment\u001b[39m\u001b[38;5;124m'\u001b[39m,\u001b[38;5;124m'\u001b[39m\u001b[38;5;124mRecall for Neutral sentiment\u001b[39m\u001b[38;5;124m'\u001b[39m])\n\u001b[0;32m      3\u001b[0m result[\u001b[38;5;124m'\u001b[39m\u001b[38;5;124mSimpleCNN_Results\u001b[39m\u001b[38;5;124m'\u001b[39m]\n",
      "\u001b[1;31mNameError\u001b[0m: name 'history' is not defined"
     ]
    }
   ],
   "source": [
    "data={'SimpleCNN_Results':[max(history.history['accuracy']),test_acc,f1_micro,f1_macro,precision_per_class[0],precision_per_class[1],precision_per_class[2],recall_per_class[0],recall_per_class[1],recall_per_class[2]]}\n",
    "result['SimpleCNN_Results']=pd.DataFrame(data,index=['Training Accuracy','Testing Accuracy','Micro F1 Score','Macro F1 Score','Precision for Negative sentiment','Precision for Positive sentiment','Precision for Neutral sentiment','Recall for Negative sentiment','Recall for Positive sentiment','Recall for Neutral sentiment'])\n",
    "result['SimpleCNN_Results']"
   ]
  },
  {
   "cell_type": "code",
   "execution_count": null,
   "id": "df730a02",
   "metadata": {},
   "outputs": [],
   "source": [
    "result.to_csv('Results.csv', index=True)"
   ]
  },
  {
   "cell_type": "code",
   "execution_count": null,
   "id": "ae51257b",
   "metadata": {},
   "outputs": [],
   "source": []
  }
 ],
 "metadata": {
  "kernelspec": {
   "display_name": "Python 3 (ipykernel)",
   "language": "python",
   "name": "python3"
  },
  "language_info": {
   "codemirror_mode": {
    "name": "ipython",
    "version": 3
   },
   "file_extension": ".py",
   "mimetype": "text/x-python",
   "name": "python",
   "nbconvert_exporter": "python",
   "pygments_lexer": "ipython3",
   "version": "3.11.5"
  }
 },
 "nbformat": 4,
 "nbformat_minor": 5
}
