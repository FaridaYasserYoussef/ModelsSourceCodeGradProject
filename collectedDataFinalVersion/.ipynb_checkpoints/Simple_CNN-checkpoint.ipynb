{
 "cells": [
  {
   "cell_type": "markdown",
   "id": "5c025840",
   "metadata": {},
   "source": [
    "# Simple CNN"
   ]
  },
  {
   "cell_type": "code",
   "execution_count": 1,
   "id": "d22c667d",
   "metadata": {},
   "outputs": [
    {
     "name": "stdout",
     "output_type": "stream",
     "text": [
      "WARNING:tensorflow:From D:\\Users\\Suzan Hatem\\anaconda3\\lib\\site-packages\\keras\\src\\losses.py:2976: The name tf.losses.sparse_softmax_cross_entropy is deprecated. Please use tf.compat.v1.losses.sparse_softmax_cross_entropy instead.\n",
      "\n"
     ]
    }
   ],
   "source": [
    "%matplotlib inline\n",
    "\n",
    "\n",
    "from sklearn.decomposition import PCA\n",
    "import keras\n",
    "from keras.utils import to_categorical\n",
    "from keras.models import Sequential, Model\n",
    "from keras.layers import Dense, Conv1D, Flatten, concatenate, Input\n",
    "\n",
    "import sklearn\n",
    "import tensorflow as tf\n",
    "from sklearn.model_selection import train_test_split\n",
    "from sklearn.preprocessing import StandardScaler\n",
    "import sklearn.preprocessing\n",
    "\n",
    "#Imports\n",
    "import pandas as pd\n",
    "import numpy as np\n",
    "from keras import layers\n",
    "from keras.utils import to_categorical\n",
    "\n",
    "\n",
    "#Splitting data\n",
    "from torch.utils.data import Dataset, DataLoader\n",
    "from sklearn.model_selection import train_test_split\n",
    "\n",
    "\n",
    "\n",
    "\n",
    "import matplotlib.pyplot as plt\n",
    "import seaborn as sns\n",
    "from sklearn.metrics import confusion_matrix\n",
    "from sklearn.metrics import confusion_matrix, ConfusionMatrixDisplay\n",
    "from sklearn.metrics import classification_report\n",
    "from sklearn.metrics import precision_score, recall_score\n",
    "from sklearn.metrics import f1_score"
   ]
  },
  {
   "cell_type": "markdown",
   "id": "71ebdb92",
   "metadata": {},
   "source": [
    "##### 1) Loading Data"
   ]
  },
  {
   "cell_type": "code",
   "execution_count": 2,
   "id": "c22efd70",
   "metadata": {},
   "outputs": [],
   "source": [
    "import os\n",
    "files_train = []\n",
    "for i in os.listdir(\"zigzag/train\"):\n",
    "    files_train.append([\"zigzag/train/\"+i, \"zigzag\"])\n",
    "    \n",
    "    \n",
    "for i in os.listdir(\"speedbumppassing/train\"):\n",
    "    files_train.append([\"speedbumppassing/train/\"+i, \"speedbump\"])\n",
    "    \n",
    "for i in os.listdir(\"potholes/train\"):\n",
    "    files_train.append([\"potholes/train/\"+i, \"pothole\"])"
   ]
  },
  {
   "cell_type": "code",
   "execution_count": 3,
   "id": "3de9b1a2",
   "metadata": {},
   "outputs": [],
   "source": [
    "import os\n",
    "files_test = []\n",
    "for i in os.listdir(\"zigzag/test\"):\n",
    "    files_test.append([\"zigzag/test/\"+i, \"zigzag\"])\n",
    "    \n",
    "    \n",
    "for i in os.listdir(\"speedbumppassing/test\"):\n",
    "    files_test.append([\"speedbumppassing/test/\"+i, \"speedbump\"])\n",
    "    \n",
    "for i in os.listdir(\"potholes/test\"):\n",
    "    files_test.append([\"potholes/test/\"+i, \"pothole\"])"
   ]
  },
  {
   "cell_type": "code",
   "execution_count": 4,
   "id": "dff7240e",
   "metadata": {},
   "outputs": [],
   "source": [
    "import pathlib\n",
    "import csv\n",
    "\n",
    "import numpy as np\n",
    "\n",
    "\n",
    "def csv2numpy(file_name):\n",
    "    \"\"\"Read multidimensional signal from file\"\"\"\n",
    "    # Read data from file.\n",
    "    data = np.genfromtxt(file_name, delimiter=\",\", skip_header=1)\n",
    "    # Return all columns but the first one (as it is the index).\n",
    "    return data[:, 1:-1]\n",
    "\n",
    "\n",
    "\n",
    "def get_crops(files, length, discard_start, discard_end, padding_mode=None):\n",
    "        \"\"\"Return list with crops from files.\"\"\"\n",
    "        crops = []\n",
    "        # Iterate over data files.\n",
    "        for file, class_ in files:\n",
    "            # Read from file.\n",
    "            signal = csv2numpy(file)\n",
    "            # Crop start and end.\n",
    "            signal = signal[discard_start:(signal.shape[0] - discard_end)]\n",
    "            windows, remainder = divmod(signal.shape[0], length)\n",
    "            if padding_mode and remainder != 0:\n",
    "                # Apply padding with given padding mode.\n",
    "                padding = length * (windows + 1) - signal.shape[0]\n",
    "                signal = np.pad(signal, ((0, padding), (0, 0)), padding_mode)\n",
    "            elif padding_mode is None:\n",
    "                # Crop the end.\n",
    "                signal = signal[:(length * windows)]\n",
    "            # Obtain crops from <discard_start> to <discard-end>.\n",
    "            for i in range(0, signal.shape[0], length):\n",
    "                crop = signal[i:(i + length)]\n",
    "                crops.append([crop, class_])\n",
    "\n",
    "        return crops"
   ]
  },
  {
   "cell_type": "code",
   "execution_count": 5,
   "id": "05cc9d8f",
   "metadata": {},
   "outputs": [],
   "source": [
    "crops_train = get_crops(files_train, 245, 50, 50)\n",
    "crops_test = get_crops(files_test, 245, 50, 50)"
   ]
  },
  {
   "cell_type": "code",
   "execution_count": 6,
   "id": "75053ba1",
   "metadata": {},
   "outputs": [],
   "source": [
    "label_encoder = sklearn.preprocessing.LabelEncoder()\n",
    "label_encoder.fit([\"zigzag\", \"speedbump\", \"pothole\"]);"
   ]
  },
  {
   "cell_type": "code",
   "execution_count": 7,
   "id": "d07109be",
   "metadata": {},
   "outputs": [],
   "source": [
    "X_train = []\n",
    "y_train = []\n",
    "for i in crops_train:\n",
    "    X_train.append(i[0])\n",
    "    y_train.append(i[1])"
   ]
  },
  {
   "cell_type": "code",
   "execution_count": 8,
   "id": "40979038",
   "metadata": {},
   "outputs": [],
   "source": [
    "X_test = []\n",
    "y_test = []\n",
    "for i in crops_test:\n",
    "    X_test.append(i[0])\n",
    "    y_test.append(i[1])"
   ]
  },
  {
   "cell_type": "code",
   "execution_count": 9,
   "id": "bac3faf9",
   "metadata": {},
   "outputs": [],
   "source": [
    "X_train = np.array(X_train)\n",
    "X_test = np.array(X_test)"
   ]
  },
  {
   "cell_type": "code",
   "execution_count": 10,
   "id": "db44ca61",
   "metadata": {},
   "outputs": [],
   "source": [
    "y_train = to_categorical(label_encoder.transform(y_train))\n",
    "y_test = to_categorical(label_encoder.transform(y_test))"
   ]
  },
  {
   "cell_type": "code",
   "execution_count": 11,
   "id": "548d3352",
   "metadata": {},
   "outputs": [
    {
     "data": {
      "text/plain": [
       "(16618, 245, 6)"
      ]
     },
     "execution_count": 11,
     "metadata": {},
     "output_type": "execute_result"
    }
   ],
   "source": [
    "X_train.shape"
   ]
  },
  {
   "cell_type": "markdown",
   "id": "db8c5d74",
   "metadata": {},
   "source": [
    "##### 3) Model Architecture"
   ]
  },
  {
   "cell_type": "code",
   "execution_count": 12,
   "id": "34a247ff",
   "metadata": {},
   "outputs": [
    {
     "name": "stdout",
     "output_type": "stream",
     "text": [
      "WARNING:tensorflow:From D:\\Users\\Suzan Hatem\\anaconda3\\lib\\site-packages\\keras\\src\\backend.py:873: The name tf.get_default_graph is deprecated. Please use tf.compat.v1.get_default_graph instead.\n",
      "\n"
     ]
    }
   ],
   "source": [
    "clf = Sequential()\n",
    "#add model layers\n",
    "clf.add(Conv1D(16, kernel_size=5, activation=\"relu\", input_shape=(245, 6)))\n",
    "clf.add(Conv1D(32, kernel_size=5, activation=\"relu\"))\n",
    "\n",
    "clf.add(Flatten())\n",
    "clf.add(Dense(16, activation=\"relu\", kernel_regularizer=keras.regularizers.l2(0.01)))\n",
    "clf.add(Dense(3, activation=\"softmax\", kernel_regularizer=keras.regularizers.l2(0.01)))"
   ]
  },
  {
   "cell_type": "code",
   "execution_count": 13,
   "id": "d6f0f0f1",
   "metadata": {},
   "outputs": [
    {
     "name": "stdout",
     "output_type": "stream",
     "text": [
      "WARNING:tensorflow:From D:\\Users\\Suzan Hatem\\anaconda3\\lib\\site-packages\\keras\\src\\optimizers\\__init__.py:309: The name tf.train.Optimizer is deprecated. Please use tf.compat.v1.train.Optimizer instead.\n",
      "\n"
     ]
    }
   ],
   "source": [
    "clf.compile(optimizer=\"adam\", loss=\"categorical_crossentropy\", metrics=[\"accuracy\"])"
   ]
  },
  {
   "cell_type": "code",
   "execution_count": 14,
   "id": "c08e96af",
   "metadata": {},
   "outputs": [
    {
     "name": "stdout",
     "output_type": "stream",
     "text": [
      "Model: \"sequential\"\n",
      "_________________________________________________________________\n",
      " Layer (type)                Output Shape              Param #   \n",
      "=================================================================\n",
      " conv1d (Conv1D)             (None, 241, 16)           496       \n",
      "                                                                 \n",
      " conv1d_1 (Conv1D)           (None, 237, 32)           2592      \n",
      "                                                                 \n",
      " flatten (Flatten)           (None, 7584)              0         \n",
      "                                                                 \n",
      " dense (Dense)               (None, 16)                121360    \n",
      "                                                                 \n",
      " dense_1 (Dense)             (None, 3)                 51        \n",
      "                                                                 \n",
      "=================================================================\n",
      "Total params: 124499 (486.32 KB)\n",
      "Trainable params: 124499 (486.32 KB)\n",
      "Non-trainable params: 0 (0.00 Byte)\n",
      "_________________________________________________________________\n"
     ]
    }
   ],
   "source": [
    "clf.summary()"
   ]
  },
  {
   "cell_type": "markdown",
   "id": "49d1862e",
   "metadata": {},
   "source": [
    "##### 4) Training the model"
   ]
  },
  {
   "cell_type": "code",
   "execution_count": 15,
   "id": "d926238a",
   "metadata": {},
   "outputs": [
    {
     "name": "stdout",
     "output_type": "stream",
     "text": [
      "Epoch 1/30\n",
      "WARNING:tensorflow:From D:\\Users\\Suzan Hatem\\anaconda3\\lib\\site-packages\\keras\\src\\utils\\tf_utils.py:492: The name tf.ragged.RaggedTensorValue is deprecated. Please use tf.compat.v1.ragged.RaggedTensorValue instead.\n",
      "\n",
      "WARNING:tensorflow:From D:\\Users\\Suzan Hatem\\anaconda3\\lib\\site-packages\\keras\\src\\engine\\base_layer_utils.py:384: The name tf.executing_eagerly_outside_functions is deprecated. Please use tf.compat.v1.executing_eagerly_outside_functions instead.\n",
      "\n",
      "520/520 [==============================] - 17s 21ms/step - loss: 0.3189 - accuracy: 0.9215 - val_loss: 1.1108 - val_accuracy: 0.7430\n",
      "Epoch 2/30\n",
      "520/520 [==============================] - 10s 20ms/step - loss: 0.1405 - accuracy: 0.9720 - val_loss: 0.9055 - val_accuracy: 0.8372\n",
      "Epoch 3/30\n",
      "520/520 [==============================] - 10s 19ms/step - loss: 0.0909 - accuracy: 0.9866 - val_loss: 1.0694 - val_accuracy: 0.8507\n",
      "Epoch 4/30\n",
      "520/520 [==============================] - 10s 19ms/step - loss: 0.0792 - accuracy: 0.9890 - val_loss: 0.9952 - val_accuracy: 0.8494\n",
      "Epoch 5/30\n",
      "520/520 [==============================] - 10s 19ms/step - loss: 0.0668 - accuracy: 0.9915 - val_loss: 0.8380 - val_accuracy: 0.8335\n",
      "Epoch 6/30\n",
      "520/520 [==============================] - 10s 20ms/step - loss: 0.0637 - accuracy: 0.9921 - val_loss: 1.1073 - val_accuracy: 0.8727\n",
      "Epoch 7/30\n",
      "520/520 [==============================] - 10s 20ms/step - loss: 0.0606 - accuracy: 0.9924 - val_loss: 0.9846 - val_accuracy: 0.8274\n",
      "Epoch 8/30\n",
      "520/520 [==============================] - 10s 19ms/step - loss: 0.0566 - accuracy: 0.9925 - val_loss: 0.9536 - val_accuracy: 0.8654\n",
      "Epoch 9/30\n",
      "520/520 [==============================] - 10s 20ms/step - loss: 0.0560 - accuracy: 0.9928 - val_loss: 1.0993 - val_accuracy: 0.8494\n",
      "Epoch 10/30\n",
      "520/520 [==============================] - 10s 20ms/step - loss: 0.0474 - accuracy: 0.9944 - val_loss: 1.2054 - val_accuracy: 0.8641\n",
      "Epoch 11/30\n",
      "520/520 [==============================] - 10s 19ms/step - loss: 0.0541 - accuracy: 0.9944 - val_loss: 1.0254 - val_accuracy: 0.8690\n",
      "Epoch 12/30\n",
      "520/520 [==============================] - 10s 19ms/step - loss: 0.0431 - accuracy: 0.9956 - val_loss: 0.9836 - val_accuracy: 0.8605\n",
      "Epoch 13/30\n",
      "520/520 [==============================] - 10s 19ms/step - loss: 0.0443 - accuracy: 0.9944 - val_loss: 1.0927 - val_accuracy: 0.8666\n",
      "Epoch 14/30\n",
      "520/520 [==============================] - 10s 19ms/step - loss: 0.0429 - accuracy: 0.9952 - val_loss: 1.1438 - val_accuracy: 0.8666\n",
      "Epoch 15/30\n",
      "520/520 [==============================] - 10s 20ms/step - loss: 0.0370 - accuracy: 0.9963 - val_loss: 1.0842 - val_accuracy: 0.8703\n",
      "Epoch 16/30\n",
      "520/520 [==============================] - 10s 19ms/step - loss: 0.0378 - accuracy: 0.9960 - val_loss: 1.3170 - val_accuracy: 0.8654\n",
      "Epoch 17/30\n",
      "520/520 [==============================] - 10s 19ms/step - loss: 0.0343 - accuracy: 0.9968 - val_loss: 1.4043 - val_accuracy: 0.8629\n",
      "Epoch 18/30\n",
      "520/520 [==============================] - 10s 19ms/step - loss: 0.0358 - accuracy: 0.9960 - val_loss: 1.3611 - val_accuracy: 0.8678\n",
      "Epoch 19/30\n",
      "520/520 [==============================] - 10s 19ms/step - loss: 0.0424 - accuracy: 0.9961 - val_loss: 1.2280 - val_accuracy: 0.8678\n",
      "Epoch 20/30\n",
      "520/520 [==============================] - 10s 19ms/step - loss: 0.0332 - accuracy: 0.9964 - val_loss: 1.0263 - val_accuracy: 0.8654\n",
      "Epoch 21/30\n",
      "520/520 [==============================] - 10s 20ms/step - loss: 0.0314 - accuracy: 0.9974 - val_loss: 1.4336 - val_accuracy: 0.8592\n",
      "Epoch 22/30\n",
      "520/520 [==============================] - 10s 20ms/step - loss: 0.0330 - accuracy: 0.9965 - val_loss: 1.0918 - val_accuracy: 0.8433\n",
      "Epoch 23/30\n",
      "520/520 [==============================] - 10s 19ms/step - loss: 0.0314 - accuracy: 0.9967 - val_loss: 1.1911 - val_accuracy: 0.8666\n",
      "Epoch 24/30\n",
      "520/520 [==============================] - 10s 19ms/step - loss: 0.0292 - accuracy: 0.9975 - val_loss: 1.3439 - val_accuracy: 0.8629\n",
      "Epoch 25/30\n",
      "520/520 [==============================] - 10s 19ms/step - loss: 0.0365 - accuracy: 0.9961 - val_loss: 1.3587 - val_accuracy: 0.8543\n",
      "Epoch 26/30\n",
      "520/520 [==============================] - 10s 19ms/step - loss: 0.0292 - accuracy: 0.9971 - val_loss: 1.2761 - val_accuracy: 0.8592\n",
      "Epoch 27/30\n",
      "520/520 [==============================] - 10s 19ms/step - loss: 0.0381 - accuracy: 0.9961 - val_loss: 1.3355 - val_accuracy: 0.8629\n",
      "Epoch 28/30\n",
      "520/520 [==============================] - 10s 19ms/step - loss: 0.0340 - accuracy: 0.9962 - val_loss: 1.1605 - val_accuracy: 0.8568\n",
      "Epoch 29/30\n",
      "520/520 [==============================] - 11s 21ms/step - loss: 0.0242 - accuracy: 0.9986 - val_loss: 1.5486 - val_accuracy: 0.8617\n",
      "Epoch 30/30\n",
      "520/520 [==============================] - 11s 21ms/step - loss: 0.0279 - accuracy: 0.9975 - val_loss: 1.2555 - val_accuracy: 0.8666\n"
     ]
    },
    {
     "data": {
      "text/plain": [
       "<keras.src.callbacks.History at 0x274610f38b0>"
      ]
     },
     "execution_count": 15,
     "metadata": {},
     "output_type": "execute_result"
    }
   ],
   "source": [
    "history=clf.fit(X_train, y_train, validation_data=(X_test, y_test), epochs=30)\n",
    "history"
   ]
  },
  {
   "cell_type": "markdown",
   "id": "900c361d",
   "metadata": {},
   "source": [
    "##### 5) Finding Training and Testing Accuracy"
   ]
  },
  {
   "cell_type": "code",
   "execution_count": 16,
   "id": "b301fb40",
   "metadata": {},
   "outputs": [
    {
     "data": {
      "image/png": "[encoded data removed]",
      "text/plain": [
       "<Figure size 432x288 with 1 Axes>"
      ]
     },
     "metadata": {
      "needs_background": "light"
     },
     "output_type": "display_data"
    }
   ],
   "source": [
    "# Plot the training and testing accuracy\n",
    "plt.plot(history.history['accuracy'])\n",
    "plt.plot(history.history['val_accuracy'])\n",
    "plt.title('Model Accuracy')\n",
    "plt.ylabel('Accuracy')\n",
    "plt.xlabel('Epoch')\n",
    "plt.ylim([0, 1])\n",
    "plt.legend(['Train', 'Test'], loc='upper left')\n",
    "plt.show()"
   ]
  },
  {
   "cell_type": "code",
   "execution_count": 18,
   "id": "17203e50",
   "metadata": {},
   "outputs": [
    {
     "name": "stdout",
     "output_type": "stream",
     "text": [
      "26/26 [==============================] - 1s 16ms/step - loss: 1.2555 - accuracy: 0.8666\n"
     ]
    },
    {
     "data": {
      "text/plain": [
       "(1.2554749250411987, 0.8665850758552551)"
      ]
     },
     "execution_count": 18,
     "metadata": {},
     "output_type": "execute_result"
    }
   ],
   "source": [
    "test_loss,test_acc=clf.evaluate(X_test, y_test)\n",
    "test_loss,test_acc"
   ]
  },
  {
   "cell_type": "markdown",
   "id": "98b8e725",
   "metadata": {},
   "source": [
    "##### 6) Compute and plot the confusion matrix for the three classes"
   ]
  },
  {
   "cell_type": "code",
   "execution_count": 22,
   "id": "96315803",
   "metadata": {},
   "outputs": [
    {
     "name": "stdout",
     "output_type": "stream",
     "text": [
      "26/26 [==============================] - 0s 10ms/step\n",
      "                  precision    recall  f1-score   support\n",
      "\n",
      "         pothole       0.86      0.99      0.92       564\n",
      "speedbumppassing       0.87      0.16      0.27       126\n",
      "          zigzag       0.88      1.00      0.94       127\n",
      "\n",
      "        accuracy                           0.87       817\n",
      "       macro avg       0.87      0.72      0.71       817\n",
      "    weighted avg       0.87      0.87      0.83       817\n",
      "\n"
     ]
    }
   ],
   "source": [
    "predictions=clf.predict(X_test)\n",
    "class_labels = ['zigzag', 'speedbumppassing','pothole']\n",
    "predicted_class_labels = [class_labels[np.argmax(pred)] for pred in predictions]\n",
    "actual_class_labels=[class_labels[np.argmax(actual)] for actual in y_test]\n",
    "print(classification_report(actual_class_labels, predicted_class_labels))"
   ]
  },
  {
   "cell_type": "code",
   "execution_count": 23,
   "id": "bbc61133",
   "metadata": {},
   "outputs": [
    {
     "data": {
      "image/png": "[encoded data removed]",
      "text/plain": [
       "<Figure size 576x432 with 2 Axes>"
      ]
     },
     "metadata": {
      "needs_background": "light"
     },
     "output_type": "display_data"
    }
   ],
   "source": [
    "conf_matrix = confusion_matrix(actual_class_labels, predicted_class_labels, labels=class_labels)\n",
    "plt.figure(figsize=(8, 6))\n",
    "sns.heatmap(conf_matrix, annot=True, fmt=\"d\", cmap=\"Purples\", xticklabels=class_labels, yticklabels=class_labels)\n",
    "plt.title('Confusion Matrix')\n",
    "plt.xlabel('Predicted Labels')\n",
    "plt.ylabel('True Labels')\n",
    "plt.show()"
   ]
  },
  {
   "cell_type": "markdown",
   "id": "fb880f81",
   "metadata": {},
   "source": [
    "##### 7) Saving the final results in Excel sheet"
   ]
  },
  {
   "cell_type": "code",
   "execution_count": null,
   "id": "585779ac",
   "metadata": {},
   "outputs": [],
   "source": [
    "precision_per_class = precision_score(actual_class_labels, predicted_class_labels, average=None)\n",
    "recall_per_class = recall_score(actual_class_labels, predicted_class_labels, average=None)\n",
    "\n",
    "print(\"Precision per class:\", precision_per_class)\n",
    "print(\"Recall per class:\", recall_per_class)"
   ]
  },
  {
   "cell_type": "code",
   "execution_count": null,
   "id": "57399a79",
   "metadata": {},
   "outputs": [],
   "source": [
    "f1_micro = f1_score(actual_class_labels, predicted_class_labels, average='micro')\n",
    "f1_macro = f1_score(actual_class_labels, predicted_class_labels, average='macro')\n",
    "\n",
    "print(\"Micro F1 Score:\", f1_micro)\n",
    "print(\"Macro F1 Score:\", f1_macro)"
   ]
  },
  {
   "cell_type": "code",
   "execution_count": null,
   "id": "ac5fcc5a",
   "metadata": {},
   "outputs": [],
   "source": [
    "data={'SimpleCNN_Results':[max(history.history['accuracy']),test_acc,f1_micro,f1_macro,precision_per_class[0],precision_per_class[1],precision_per_class[2],recall_per_class[0],recall_per_class[1],recall_per_class[2]]}\n",
    "result['SimpleCNN_Results']=pd.DataFrame(data,index=['Training Accuracy','Testing Accuracy','Micro F1 Score','Macro F1 Score','Precision for Negative sentiment','Precision for Positive sentiment','Precision for Neutral sentiment','Recall for Negative sentiment','Recall for Positive sentiment','Recall for Neutral sentiment'])\n",
    "result['SimpleCNN_Results']"
   ]
  },
  {
   "cell_type": "code",
   "execution_count": null,
   "id": "df730a02",
   "metadata": {},
   "outputs": [],
   "source": [
    "result.to_csv('Results.csv', index=True)"
   ]
  }
 ],
 "metadata": {
  "kernelspec": {
   "display_name": "Python 3 (ipykernel)",
   "language": "python",
   "name": "python3"
  },
  "language_info": {
   "codemirror_mode": {
    "name": "ipython",
    "version": 3
   },
   "file_extension": ".py",
   "mimetype": "text/x-python",
   "name": "python",
   "nbconvert_exporter": "python",
   "pygments_lexer": "ipython3",
   "version": "3.11.5"
  }
 },
 "nbformat": 4,
 "nbformat_minor": 5
}
