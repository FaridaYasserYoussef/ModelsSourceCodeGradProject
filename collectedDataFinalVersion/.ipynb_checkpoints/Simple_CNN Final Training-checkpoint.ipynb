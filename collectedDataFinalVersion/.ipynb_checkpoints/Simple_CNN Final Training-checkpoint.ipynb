{
 "cells": [
  {
   "cell_type": "markdown",
   "id": "5c025840",
   "metadata": {},
   "source": [
    "# Simple CNN"
   ]
  },
  {
   "cell_type": "code",
   "execution_count": 24,
   "id": "d22c667d",
   "metadata": {},
   "outputs": [],
   "source": [
    "%matplotlib inline\n",
    "\n",
    "\n",
    "from sklearn.decomposition import PCA\n",
    "import keras\n",
    "from keras.utils import to_categorical\n",
    "from keras.models import Sequential, Model\n",
    "from keras.layers import Dense, Conv1D, Flatten, concatenate, Input\n",
    "\n",
    "import sklearn\n",
    "import tensorflow as tf\n",
    "from sklearn.model_selection import train_test_split\n",
    "from sklearn.preprocessing import StandardScaler\n",
    "import sklearn.preprocessing\n",
    "\n",
    "#Imports\n",
    "import pandas as pd\n",
    "import numpy as np\n",
    "from keras import layers\n",
    "from keras.utils import to_categorical\n",
    "\n",
    "\n",
    "#Splitting data\n",
    "from torch.utils.data import Dataset, DataLoader\n",
    "from sklearn.model_selection import train_test_split\n",
    "\n",
    "\n",
    "\n",
    "\n",
    "import matplotlib.pyplot as plt\n",
    "import seaborn as sns\n",
    "from sklearn.metrics import confusion_matrix\n",
    "from sklearn.metrics import confusion_matrix, ConfusionMatrixDisplay\n",
    "from sklearn.metrics import classification_report\n",
    "from sklearn.metrics import precision_score, recall_score\n",
    "from sklearn.metrics import f1_score"
   ]
  },
  {
   "cell_type": "markdown",
   "id": "71ebdb92",
   "metadata": {},
   "source": [
    "##### 1) Loading Data"
   ]
  },
  {
   "cell_type": "code",
   "execution_count": 25,
   "id": "c22efd70",
   "metadata": {},
   "outputs": [],
   "source": [
    "import os\n",
    "files_train = []\n",
    "for i in os.listdir(\"zigzag/trainResampled\"):\n",
    "    files_train.append([\"zigzag/trainResampled/\"+i, \"zigzag\"])\n",
    "    \n",
    "    \n",
    "# for i in os.listdir(\"speedbumppassing/train\"):\n",
    "#     files_train.append([\"speedbumppassing/train/\"+i, \"speedbump\"])\n",
    "    \n",
    "\n",
    "    \n",
    "for i in os.listdir(\"potholes/trainResampled\"):\n",
    "    files_train.append([\"potholes/trainResampled/\"+i, \"pothole\"])"
   ]
  },
  {
   "cell_type": "code",
   "execution_count": 26,
   "id": "3de9b1a2",
   "metadata": {},
   "outputs": [],
   "source": [
    "import os\n",
    "files_test = []\n",
    "for i in os.listdir(\"zigzag/test\"):\n",
    "    files_test.append([\"zigzag/test/\"+i, \"zigzag\"])\n",
    "    \n",
    "    \n",
    "for i in os.listdir(\"speedbumppassing/test\"):\n",
    "    files_test.append([\"speedbumppassing/test/\"+i, \"speedbump\"])\n",
    "    \n",
    "for i in os.listdir(\"potholes/test\"):\n",
    "    files_test.append([\"potholes/test/\"+i, \"pothole\"])"
   ]
  },
  {
   "cell_type": "code",
   "execution_count": 27,
   "id": "dff7240e",
   "metadata": {},
   "outputs": [],
   "source": [
    "import pathlib\n",
    "import csv\n",
    "\n",
    "import numpy as np\n",
    "\n",
    "\n",
    "def csv2numpy(file_name):\n",
    "    \"\"\"Read multidimensional signal from file\"\"\"\n",
    "    # Read data from file.\n",
    "    data = np.genfromtxt(file_name, delimiter=\",\", skip_header=1)\n",
    "    # Return all columns but the first one (as it is the index).\n",
    "    return data[:, 1:-1]\n",
    "\n",
    "\n",
    "\n",
    "def get_crops(files, length, discard_start, discard_end, padding_mode=None):\n",
    "        \"\"\"Return list with crops from files.\"\"\"\n",
    "        crops = []\n",
    "        # Iterate over data files.\n",
    "        for file, class_ in files:\n",
    "            # Read from file.\n",
    "            signal = csv2numpy(file)\n",
    "            # Crop start and end.\n",
    "            signal = signal[discard_start:(signal.shape[0] - discard_end)]\n",
    "            windows, remainder = divmod(signal.shape[0], length)\n",
    "            if padding_mode and remainder != 0:\n",
    "                # Apply padding with given padding mode.\n",
    "                padding = length * (windows + 1) - signal.shape[0]\n",
    "                signal = np.pad(signal, ((0, padding), (0, 0)), padding_mode)\n",
    "            elif padding_mode is None:\n",
    "                # Crop the end.\n",
    "                signal = signal[:(length * windows)]\n",
    "            # Obtain crops from <discard_start> to <discard-end>.\n",
    "            for i in range(0, signal.shape[0], length):\n",
    "                crop = signal[i:(i + length)]\n",
    "                crops.append([crop, class_])\n",
    "\n",
    "        return crops"
   ]
  },
  {
   "cell_type": "code",
   "execution_count": 28,
   "id": "05cc9d8f",
   "metadata": {},
   "outputs": [],
   "source": [
    "crops_train = get_crops(files_train, 245, 50, 50)\n",
    "crops_test = get_crops(files_test, 245, 50, 50)"
   ]
  },
  {
   "cell_type": "code",
   "execution_count": 29,
   "id": "75053ba1",
   "metadata": {},
   "outputs": [],
   "source": [
    "label_encoder = sklearn.preprocessing.LabelEncoder()\n",
    "label_encoder.fit([\"zigzag\", \"speedbump\", \"pothole\"]);"
   ]
  },
  {
   "cell_type": "code",
   "execution_count": 30,
   "id": "d07109be",
   "metadata": {},
   "outputs": [],
   "source": [
    "X_train = []\n",
    "y_train = []\n",
    "for i in crops_train:\n",
    "    X_train.append(i[0])\n",
    "    y_train.append(i[1])"
   ]
  },
  {
   "cell_type": "code",
   "execution_count": 31,
   "id": "40979038",
   "metadata": {},
   "outputs": [],
   "source": [
    "X_test = []\n",
    "y_test = []\n",
    "for i in crops_test:\n",
    "    X_test.append(i[0])\n",
    "    y_test.append(i[1])"
   ]
  },
  {
   "cell_type": "code",
   "execution_count": 32,
   "id": "bac3faf9",
   "metadata": {},
   "outputs": [],
   "source": [
    "X_train = np.array(X_train)\n",
    "X_test = np.array(X_test)"
   ]
  },
  {
   "cell_type": "code",
   "execution_count": 33,
   "id": "db44ca61",
   "metadata": {},
   "outputs": [],
   "source": [
    "y_train = to_categorical(label_encoder.transform(y_train))\n",
    "y_test = to_categorical(label_encoder.transform(y_test))"
   ]
  },
  {
   "cell_type": "code",
   "execution_count": 34,
   "id": "548d3352",
   "metadata": {},
   "outputs": [
    {
     "data": {
      "text/plain": [
       "(16618, 245, 6)"
      ]
     },
     "execution_count": 34,
     "metadata": {},
     "output_type": "execute_result"
    }
   ],
   "source": [
    "X_train.shape"
   ]
  },
  {
   "cell_type": "markdown",
   "id": "db8c5d74",
   "metadata": {},
   "source": [
    "##### 3) Model Architecture"
   ]
  },
  {
   "cell_type": "code",
   "execution_count": 35,
   "id": "34a247ff",
   "metadata": {},
   "outputs": [],
   "source": [
    "clf = Sequential()\n",
    "#add model layers\n",
    "clf.add(Conv1D(16, kernel_size=5, activation=\"relu\", input_shape=(245, 6)))\n",
    "clf.add(Conv1D(32, kernel_size=5, activation=\"relu\"))\n",
    "\n",
    "clf.add(Flatten())\n",
    "clf.add(Dense(16, activation=\"relu\", kernel_regularizer=keras.regularizers.l2(0.01)))\n",
    "clf.add(Dense(3, activation=\"softmax\", kernel_regularizer=keras.regularizers.l2(0.01)))"
   ]
  },
  {
   "cell_type": "code",
   "execution_count": 36,
   "id": "d6f0f0f1",
   "metadata": {},
   "outputs": [],
   "source": [
    "clf.compile(optimizer=\"adam\", loss=\"categorical_crossentropy\", metrics=[\"accuracy\"])"
   ]
  },
  {
   "cell_type": "code",
   "execution_count": 37,
   "id": "c08e96af",
   "metadata": {},
   "outputs": [
    {
     "name": "stdout",
     "output_type": "stream",
     "text": [
      "Model: \"sequential_1\"\n",
      "_________________________________________________________________\n",
      " Layer (type)                Output Shape              Param #   \n",
      "=================================================================\n",
      " conv1d_2 (Conv1D)           (None, 241, 16)           496       \n",
      "                                                                 \n",
      " conv1d_3 (Conv1D)           (None, 237, 32)           2592      \n",
      "                                                                 \n",
      " flatten_1 (Flatten)         (None, 7584)              0         \n",
      "                                                                 \n",
      " dense_2 (Dense)             (None, 16)                121360    \n",
      "                                                                 \n",
      " dense_3 (Dense)             (None, 3)                 51        \n",
      "                                                                 \n",
      "=================================================================\n",
      "Total params: 124499 (486.32 KB)\n",
      "Trainable params: 124499 (486.32 KB)\n",
      "Non-trainable params: 0 (0.00 Byte)\n",
      "_________________________________________________________________\n"
     ]
    }
   ],
   "source": [
    "clf.summary()"
   ]
  },
  {
   "cell_type": "markdown",
   "id": "49d1862e",
   "metadata": {},
   "source": [
    "##### 4) Training the model"
   ]
  },
  {
   "cell_type": "code",
   "execution_count": 38,
   "id": "d926238a",
   "metadata": {},
   "outputs": [
    {
     "name": "stdout",
     "output_type": "stream",
     "text": [
      "Epoch 1/30\n",
      "520/520 [==============================] - 5s 6ms/step - loss: 0.3144 - accuracy: 0.9290 - val_loss: 1.2508 - val_accuracy: 0.8397\n",
      "Epoch 2/30\n",
      "520/520 [==============================] - 3s 5ms/step - loss: 0.1309 - accuracy: 0.9678 - val_loss: 1.2384 - val_accuracy: 0.8556\n",
      "Epoch 3/30\n",
      "520/520 [==============================] - 3s 5ms/step - loss: 0.0859 - accuracy: 0.9829 - val_loss: 1.1578 - val_accuracy: 0.8605\n",
      "Epoch 4/30\n",
      "520/520 [==============================] - 3s 5ms/step - loss: 0.0743 - accuracy: 0.9860 - val_loss: 0.9060 - val_accuracy: 0.8458\n",
      "Epoch 5/30\n",
      "520/520 [==============================] - 3s 5ms/step - loss: 0.0640 - accuracy: 0.9889 - val_loss: 1.1379 - val_accuracy: 0.8556\n",
      "Epoch 6/30\n",
      "520/520 [==============================] - 3s 5ms/step - loss: 0.0625 - accuracy: 0.9887 - val_loss: 1.5245 - val_accuracy: 0.8507\n",
      "Epoch 7/30\n",
      "520/520 [==============================] - 3s 5ms/step - loss: 0.0628 - accuracy: 0.9910 - val_loss: 1.1703 - val_accuracy: 0.8617\n",
      "Epoch 8/30\n",
      "520/520 [==============================] - 3s 5ms/step - loss: 0.0498 - accuracy: 0.9920 - val_loss: 1.0048 - val_accuracy: 0.8617\n",
      "Epoch 9/30\n",
      "520/520 [==============================] - 3s 6ms/step - loss: 0.0454 - accuracy: 0.9929 - val_loss: 1.1358 - val_accuracy: 0.8433\n",
      "Epoch 10/30\n",
      "520/520 [==============================] - 3s 6ms/step - loss: 0.0477 - accuracy: 0.9928 - val_loss: 1.2470 - val_accuracy: 0.8335\n",
      "Epoch 11/30\n",
      "520/520 [==============================] - 3s 5ms/step - loss: 0.0483 - accuracy: 0.9928 - val_loss: 1.4431 - val_accuracy: 0.8654\n",
      "Epoch 12/30\n",
      "520/520 [==============================] - 3s 6ms/step - loss: 0.0416 - accuracy: 0.9932 - val_loss: 1.1615 - val_accuracy: 0.8140\n",
      "Epoch 13/30\n",
      "520/520 [==============================] - 3s 5ms/step - loss: 0.0533 - accuracy: 0.9926 - val_loss: 1.1118 - val_accuracy: 0.8531\n",
      "Epoch 14/30\n",
      "520/520 [==============================] - 3s 6ms/step - loss: 0.0376 - accuracy: 0.9951 - val_loss: 1.2717 - val_accuracy: 0.8580\n",
      "Epoch 15/30\n",
      "520/520 [==============================] - 3s 5ms/step - loss: 0.0418 - accuracy: 0.9942 - val_loss: 1.3018 - val_accuracy: 0.8592\n",
      "Epoch 16/30\n",
      "520/520 [==============================] - 3s 5ms/step - loss: 0.0394 - accuracy: 0.9949 - val_loss: 1.2914 - val_accuracy: 0.8654\n",
      "Epoch 17/30\n",
      "520/520 [==============================] - 3s 6ms/step - loss: 0.0392 - accuracy: 0.9942 - val_loss: 1.7771 - val_accuracy: 0.8580\n",
      "Epoch 18/30\n",
      "520/520 [==============================] - 3s 6ms/step - loss: 0.0347 - accuracy: 0.9957 - val_loss: 1.1347 - val_accuracy: 0.8690\n",
      "Epoch 19/30\n",
      "520/520 [==============================] - 3s 6ms/step - loss: 0.0379 - accuracy: 0.9955 - val_loss: 1.4702 - val_accuracy: 0.8666\n",
      "Epoch 20/30\n",
      "520/520 [==============================] - 3s 5ms/step - loss: 0.0367 - accuracy: 0.9946 - val_loss: 1.6291 - val_accuracy: 0.8690\n",
      "Epoch 21/30\n",
      "520/520 [==============================] - 3s 6ms/step - loss: 0.0340 - accuracy: 0.9955 - val_loss: 1.3037 - val_accuracy: 0.8666\n",
      "Epoch 22/30\n",
      "520/520 [==============================] - 3s 6ms/step - loss: 0.0307 - accuracy: 0.9968 - val_loss: 1.5420 - val_accuracy: 0.8678\n",
      "Epoch 23/30\n",
      "520/520 [==============================] - 3s 5ms/step - loss: 0.0346 - accuracy: 0.9957 - val_loss: 1.4756 - val_accuracy: 0.8605\n",
      "Epoch 24/30\n",
      "520/520 [==============================] - 3s 5ms/step - loss: 0.0391 - accuracy: 0.9957 - val_loss: 1.4352 - val_accuracy: 0.8568\n",
      "Epoch 25/30\n",
      "520/520 [==============================] - 3s 6ms/step - loss: 0.0323 - accuracy: 0.9960 - val_loss: 1.3889 - val_accuracy: 0.8605\n",
      "Epoch 26/30\n",
      "520/520 [==============================] - 3s 5ms/step - loss: 0.0337 - accuracy: 0.9957 - val_loss: 1.3346 - val_accuracy: 0.8409\n",
      "Epoch 27/30\n",
      "520/520 [==============================] - 3s 5ms/step - loss: 0.0277 - accuracy: 0.9970 - val_loss: 1.9007 - val_accuracy: 0.8678\n",
      "Epoch 28/30\n",
      "520/520 [==============================] - 3s 5ms/step - loss: 0.0286 - accuracy: 0.9963 - val_loss: 1.4823 - val_accuracy: 0.8715\n",
      "Epoch 29/30\n",
      "520/520 [==============================] - 3s 5ms/step - loss: 0.0384 - accuracy: 0.9943 - val_loss: 1.2237 - val_accuracy: 0.8727\n",
      "Epoch 30/30\n",
      "520/520 [==============================] - 3s 5ms/step - loss: 0.0274 - accuracy: 0.9975 - val_loss: 1.7912 - val_accuracy: 0.8715\n"
     ]
    },
    {
     "data": {
      "text/plain": [
       "<keras.src.callbacks.History at 0x24a3926b350>"
      ]
     },
     "execution_count": 38,
     "metadata": {},
     "output_type": "execute_result"
    }
   ],
   "source": [
    "history=clf.fit(X_train, y_train, validation_data=(X_test, y_test), epochs=30)\n",
    "history"
   ]
  },
  {
   "cell_type": "markdown",
   "id": "900c361d",
   "metadata": {},
   "source": [
    "##### 5) Finding Training and Testing Accuracy"
   ]
  },
  {
   "cell_type": "code",
   "execution_count": 39,
   "id": "b301fb40",
   "metadata": {},
   "outputs": [
    {
     "data": {
      "image/png": "[encoded data removed]",
      "text/plain": [
       "<Figure size 640x480 with 1 Axes>"
      ]
     },
     "metadata": {},
     "output_type": "display_data"
    }
   ],
   "source": [
    "# Plot the training and testing accuracy\n",
    "plt.plot(history.history['accuracy'])\n",
    "plt.plot(history.history['val_accuracy'])\n",
    "plt.title('Model Accuracy')\n",
    "plt.ylabel('Accuracy')\n",
    "plt.xlabel('Epoch')\n",
    "plt.ylim([0, 1])\n",
    "plt.legend(['Train', 'Test'], loc='upper left')\n",
    "plt.show()"
   ]
  },
  {
   "cell_type": "code",
   "execution_count": 40,
   "id": "17203e50",
   "metadata": {},
   "outputs": [
    {
     "name": "stdout",
     "output_type": "stream",
     "text": [
      "26/26 [==============================] - 0s 3ms/step - loss: 1.7912 - accuracy: 0.8715\n"
     ]
    },
    {
     "data": {
      "text/plain": [
       "(1.7912226915359497, 0.8714810013771057)"
      ]
     },
     "execution_count": 40,
     "metadata": {},
     "output_type": "execute_result"
    }
   ],
   "source": [
    "test_loss,test_acc=clf.evaluate(X_test, y_test)\n",
    "test_loss,test_acc"
   ]
  },
  {
   "cell_type": "markdown",
   "id": "98b8e725",
   "metadata": {},
   "source": [
    "##### 6) Compute and plot the confusion matrix for the three classes"
   ]
  },
  {
   "cell_type": "code",
   "execution_count": 41,
   "id": "96315803",
   "metadata": {},
   "outputs": [
    {
     "name": "stdout",
     "output_type": "stream",
     "text": [
      "26/26 [==============================] - 0s 2ms/step\n",
      "                  precision    recall  f1-score   support\n",
      "\n",
      "         pothole       0.93      1.00      0.97       127\n",
      "speedbumppassing       0.96      0.17      0.30       126\n",
      "          zigzag       0.86      1.00      0.92       564\n",
      "\n",
      "        accuracy                           0.87       817\n",
      "       macro avg       0.92      0.72      0.73       817\n",
      "    weighted avg       0.88      0.87      0.83       817\n",
      "\n"
     ]
    }
   ],
   "source": [
    "predictions=clf.predict(X_test)\n",
    "class_labels = ['pothole', 'speedbumppassing', 'zigzag']\n",
    "predicted_class_labels = [class_labels[np.argmax(pred)] for pred in predictions]\n",
    "actual_class_labels=[class_labels[np.argmax(actual)] for actual in y_test]\n",
    "print(classification_report(actual_class_labels, predicted_class_labels))"
   ]
  },
  {
   "cell_type": "code",
   "execution_count": 42,
   "id": "bbc61133",
   "metadata": {},
   "outputs": [
    {
     "data": {
      "image/png": "[encoded data removed]",
      "text/plain": [
       "<Figure size 800x600 with 2 Axes>"
      ]
     },
     "metadata": {},
     "output_type": "display_data"
    }
   ],
   "source": [
    "conf_matrix = confusion_matrix(actual_class_labels, predicted_class_labels, labels=class_labels)\n",
    "plt.figure(figsize=(8, 6))\n",
    "sns.heatmap(conf_matrix, annot=True, fmt=\"d\", cmap=\"Purples\", xticklabels=class_labels, yticklabels=class_labels)\n",
    "plt.title('Confusion Matrix')\n",
    "plt.xlabel('Predicted Labels')\n",
    "plt.ylabel('True Labels')\n",
    "plt.show()"
   ]
  },
  {
   "cell_type": "markdown",
   "id": "fb880f81",
   "metadata": {},
   "source": [
    "##### 7) Saving the final results in Excel sheet"
   ]
  },
  {
   "cell_type": "code",
   "execution_count": 43,
   "id": "585779ac",
   "metadata": {},
   "outputs": [
    {
     "name": "stdout",
     "output_type": "stream",
     "text": [
      "Precision per class: [0.93382353 0.95652174 0.8556231 ]\n",
      "Recall per class: [1.         0.17460317 0.99822695]\n"
     ]
    }
   ],
   "source": [
    "precision_per_class = precision_score(actual_class_labels, predicted_class_labels, average=None)\n",
    "recall_per_class = recall_score(actual_class_labels, predicted_class_labels, average=None)\n",
    "\n",
    "print(\"Precision per class:\", precision_per_class)\n",
    "print(\"Recall per class:\", recall_per_class)"
   ]
  },
  {
   "cell_type": "code",
   "execution_count": 44,
   "id": "57399a79",
   "metadata": {},
   "outputs": [
    {
     "name": "stdout",
     "output_type": "stream",
     "text": [
      "Micro F1 Score: 0.8714810281517748\n",
      "Macro F1 Score: 0.727507247656407\n"
     ]
    }
   ],
   "source": [
    "f1_micro = f1_score(actual_class_labels, predicted_class_labels, average='micro')\n",
    "f1_macro = f1_score(actual_class_labels, predicted_class_labels, average='macro')\n",
    "\n",
    "print(\"Micro F1 Score:\", f1_micro)\n",
    "print(\"Macro F1 Score:\", f1_macro)"
   ]
  },
  {
   "cell_type": "code",
   "execution_count": 23,
   "id": "ac5fcc5a",
   "metadata": {},
   "outputs": [
    {
     "ename": "NameError",
     "evalue": "name 'result' is not defined",
     "output_type": "error",
     "traceback": [
      "\u001b[1;31m---------------------------------------------------------------------------\u001b[0m",
      "\u001b[1;31mNameError\u001b[0m                                 Traceback (most recent call last)",
      "Cell \u001b[1;32mIn[23], line 2\u001b[0m\n\u001b[0;32m      1\u001b[0m data\u001b[38;5;241m=\u001b[39m{\u001b[38;5;124m'\u001b[39m\u001b[38;5;124mSimpleCNN_Results\u001b[39m\u001b[38;5;124m'\u001b[39m:[\u001b[38;5;28mmax\u001b[39m(history\u001b[38;5;241m.\u001b[39mhistory[\u001b[38;5;124m'\u001b[39m\u001b[38;5;124maccuracy\u001b[39m\u001b[38;5;124m'\u001b[39m]),test_acc,f1_micro,f1_macro,precision_per_class[\u001b[38;5;241m0\u001b[39m],precision_per_class[\u001b[38;5;241m1\u001b[39m],precision_per_class[\u001b[38;5;241m2\u001b[39m],recall_per_class[\u001b[38;5;241m0\u001b[39m],recall_per_class[\u001b[38;5;241m1\u001b[39m],recall_per_class[\u001b[38;5;241m2\u001b[39m]]}\n\u001b[1;32m----> 2\u001b[0m result[\u001b[38;5;124m'\u001b[39m\u001b[38;5;124mSimpleCNN_Results\u001b[39m\u001b[38;5;124m'\u001b[39m]\u001b[38;5;241m=\u001b[39mpd\u001b[38;5;241m.\u001b[39mDataFrame(data,index\u001b[38;5;241m=\u001b[39m[\u001b[38;5;124m'\u001b[39m\u001b[38;5;124mTraining Accuracy\u001b[39m\u001b[38;5;124m'\u001b[39m,\u001b[38;5;124m'\u001b[39m\u001b[38;5;124mTesting Accuracy\u001b[39m\u001b[38;5;124m'\u001b[39m,\u001b[38;5;124m'\u001b[39m\u001b[38;5;124mMicro F1 Score\u001b[39m\u001b[38;5;124m'\u001b[39m,\u001b[38;5;124m'\u001b[39m\u001b[38;5;124mMacro F1 Score\u001b[39m\u001b[38;5;124m'\u001b[39m,\u001b[38;5;124m'\u001b[39m\u001b[38;5;124mPrecision for Negative sentiment\u001b[39m\u001b[38;5;124m'\u001b[39m,\u001b[38;5;124m'\u001b[39m\u001b[38;5;124mPrecision for Positive sentiment\u001b[39m\u001b[38;5;124m'\u001b[39m,\u001b[38;5;124m'\u001b[39m\u001b[38;5;124mPrecision for Neutral sentiment\u001b[39m\u001b[38;5;124m'\u001b[39m,\u001b[38;5;124m'\u001b[39m\u001b[38;5;124mRecall for Negative sentiment\u001b[39m\u001b[38;5;124m'\u001b[39m,\u001b[38;5;124m'\u001b[39m\u001b[38;5;124mRecall for Positive sentiment\u001b[39m\u001b[38;5;124m'\u001b[39m,\u001b[38;5;124m'\u001b[39m\u001b[38;5;124mRecall for Neutral sentiment\u001b[39m\u001b[38;5;124m'\u001b[39m])\n\u001b[0;32m      3\u001b[0m result[\u001b[38;5;124m'\u001b[39m\u001b[38;5;124mSimpleCNN_Results\u001b[39m\u001b[38;5;124m'\u001b[39m]\n",
      "\u001b[1;31mNameError\u001b[0m: name 'result' is not defined"
     ]
    }
   ],
   "source": [
    "data={'SimpleCNN_Results':[max(history.history['accuracy']),test_acc,f1_micro,f1_macro,precision_per_class[0],precision_per_class[1],precision_per_class[2],recall_per_class[0],recall_per_class[1],recall_per_class[2]]}\n",
    "result['SimpleCNN_Results']=pd.DataFrame(data,index=['Training Accuracy','Testing Accuracy','Micro F1 Score','Macro F1 Score','Precision for Negative sentiment','Precision for Positive sentiment','Precision for Neutral sentiment','Recall for Negative sentiment','Recall for Positive sentiment','Recall for Neutral sentiment'])\n",
    "result['SimpleCNN_Results']"
   ]
  },
  {
   "cell_type": "code",
   "execution_count": null,
   "id": "df730a02",
   "metadata": {},
   "outputs": [],
   "source": [
    "result.to_csv('Results.csv', index=True)"
   ]
  },
  {
   "cell_type": "code",
   "execution_count": null,
   "id": "ae51257b",
   "metadata": {},
   "outputs": [],
   "source": []
  }
 ],
 "metadata": {
  "kernelspec": {
   "display_name": "Python 3 (ipykernel)",
   "language": "python",
   "name": "python3"
  },
  "language_info": {
   "codemirror_mode": {
    "name": "ipython",
    "version": 3
   },
   "file_extension": ".py",
   "mimetype": "text/x-python",
   "name": "python",
   "nbconvert_exporter": "python",
   "pygments_lexer": "ipython3",
   "version": "3.11.5"
  }
 },
 "nbformat": 4,
 "nbformat_minor": 5
}
