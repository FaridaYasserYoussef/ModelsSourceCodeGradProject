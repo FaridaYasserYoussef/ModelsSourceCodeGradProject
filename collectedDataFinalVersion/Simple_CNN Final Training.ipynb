{
 "cells": [
  {
   "cell_type": "markdown",
   "id": "5c025840",
   "metadata": {},
   "source": [
    "# Simple CNN"
   ]
  },
  {
   "cell_type": "code",
   "execution_count": 1,
   "id": "d22c667d",
   "metadata": {},
   "outputs": [],
   "source": [
    "%matplotlib inline\n",
    "\n",
    "\n",
    "from sklearn.decomposition import PCA\n",
    "import keras\n",
    "from keras.utils import to_categorical\n",
    "from keras.models import Sequential, Model\n",
    "from keras.layers import Dense, Conv1D, Flatten, concatenate, Input\n",
    "\n",
    "import sklearn\n",
    "import tensorflow as tf\n",
    "from sklearn.model_selection import train_test_split\n",
    "from sklearn.preprocessing import StandardScaler\n",
    "import sklearn.preprocessing\n",
    "\n",
    "#Imports\n",
    "import pandas as pd\n",
    "import numpy as np\n",
    "from keras import layers\n",
    "from keras.utils import to_categorical\n",
    "\n",
    "\n",
    "#Splitting data\n",
    "from torch.utils.data import Dataset, DataLoader\n",
    "from sklearn.model_selection import train_test_split\n",
    "\n",
    "\n",
    "\n",
    "\n",
    "import matplotlib.pyplot as plt\n",
    "import seaborn as sns\n",
    "from sklearn.metrics import confusion_matrix\n",
    "from sklearn.metrics import confusion_matrix, ConfusionMatrixDisplay\n",
    "from sklearn.metrics import classification_report\n",
    "from sklearn.metrics import precision_score, recall_score\n",
    "from sklearn.metrics import f1_score"
   ]
  },
  {
   "cell_type": "markdown",
   "id": "71ebdb92",
   "metadata": {},
   "source": [
    "##### 1) Loading Data"
   ]
  },
  {
   "cell_type": "code",
   "execution_count": 2,
   "id": "c22efd70",
   "metadata": {},
   "outputs": [],
   "source": [
    "import os\n",
    "files_train = []\n",
    "for i in os.listdir(\"zigzag/trainResampled\"):\n",
    "    files_train.append([\"zigzag/trainResampled/\"+i, \"zigzag\"])\n",
    "    \n",
    "    \n",
    "# for i in os.listdir(\"speedbumppassing/train\"):\n",
    "#     files_train.append([\"speedbumppassing/train/\"+i, \"speedbump\"])\n",
    "    \n",
    "for i in os.listdir(\"sharpturnsResampled/train\"):\n",
    "    files_train.append([\"sharpturnsResampled/train/\"+i, \"sharpturn\"])\n",
    "    \n",
    "for i in os.listdir(\"suddenbrakingResampled/train\"):\n",
    "    files_train.append([\"suddenbrakingResampled/train/\"+i, \"suddenbraking\"])\n",
    "    \n",
    "    \n",
    "for i in os.listdir(\"potholes/trainResampled\"):\n",
    "    files_train.append([\"potholes/trainResampled/\"+i, \"pothole\"])"
   ]
  },
  {
   "cell_type": "code",
   "execution_count": 3,
   "id": "3de9b1a2",
   "metadata": {},
   "outputs": [],
   "source": [
    "import os\n",
    "files_test = []\n",
    "for i in os.listdir(\"zigzag/testResampled\"):\n",
    "    files_test.append([\"zigzag/testResampled/\"+i, \"zigzag\"])\n",
    "    \n",
    "    \n",
    "# for i in os.listdir(\"speedbumppassing/test\"):\n",
    "#     files_test.append([\"speedbumppassing/test/\"+i, \"speedbump\"])\n",
    "\n",
    "for i in os.listdir(\"sharpturnsResampled/test\"):\n",
    "    files_test.append([\"sharpturnsResampled/test/\"+i, \"sharpturn\"])\n",
    "    \n",
    "for i in os.listdir(\"suddenbrakingResampled/test\"):\n",
    "    files_test.append([\"suddenbrakingResampled/test/\"+i, \"suddenbraking\"])\n",
    "    \n",
    "for i in os.listdir(\"potholes/testResampled\"):\n",
    "    files_test.append([\"potholes/testResampled/\"+i, \"pothole\"])"
   ]
  },
  {
   "cell_type": "code",
   "execution_count": 4,
   "id": "dff7240e",
   "metadata": {},
   "outputs": [],
   "source": [
    "import pathlib\n",
    "import csv\n",
    "\n",
    "import numpy as np\n",
    "\n",
    "\n",
    "def csv2numpy(file_name):\n",
    "    \"\"\"Read multidimensional signal from file\"\"\"\n",
    "    # Read data from file.\n",
    "    data = np.genfromtxt(file_name, delimiter=\",\", skip_header=1)\n",
    "    # Return all columns but the first one (as it is the index).\n",
    "    return data[:, 1:]\n",
    "\n",
    "\n",
    "\n",
    "def get_crops(files, length, discard_start, discard_end, padding_mode=None):\n",
    "        \"\"\"Return list with crops from files.\"\"\"\n",
    "        crops = []\n",
    "        # Iterate over data files.\n",
    "        for file, class_ in files:\n",
    "            # Read from file.\n",
    "            signal = csv2numpy(file)\n",
    "            # Crop start and end.\n",
    "            signal = signal[discard_start:(signal.shape[0] - discard_end)]\n",
    "            windows, remainder = divmod(signal.shape[0], length)\n",
    "            if padding_mode and remainder != 0:\n",
    "                # Apply padding with given padding mode.\n",
    "                padding = length * (windows + 1) - signal.shape[0]\n",
    "                signal = np.pad(signal, ((0, padding), (0, 0)), padding_mode)\n",
    "            elif padding_mode is None:\n",
    "                # Crop the end.\n",
    "                signal = signal[:(length * windows)]\n",
    "            # Obtain crops from <discard_start> to <discard-end>.\n",
    "            for i in range(0, signal.shape[0], length):\n",
    "                crop = signal[i:(i + length)]\n",
    "                crops.append([crop, class_])\n",
    "\n",
    "        return crops"
   ]
  },
  {
   "cell_type": "code",
   "execution_count": 5,
   "id": "05cc9d8f",
   "metadata": {},
   "outputs": [],
   "source": [
    "crops_train = get_crops(files_train, 500, 50, 50)\n",
    "crops_test = get_crops(files_test, 500, 50, 50)"
   ]
  },
  {
   "cell_type": "code",
   "execution_count": 6,
   "id": "75053ba1",
   "metadata": {},
   "outputs": [],
   "source": [
    "label_encoder = sklearn.preprocessing.LabelEncoder()\n",
    "label_encoder.fit([\"zigzag\", \"sharpturn\",\"suddenbraking\",  \"pothole\"]);"
   ]
  },
  {
   "cell_type": "code",
   "execution_count": 7,
   "id": "d07109be",
   "metadata": {},
   "outputs": [],
   "source": [
    "X_train = []\n",
    "y_train = []\n",
    "for i in crops_train:\n",
    "    X_train.append(i[0])\n",
    "    y_train.append(i[1])"
   ]
  },
  {
   "cell_type": "code",
   "execution_count": 8,
   "id": "40979038",
   "metadata": {},
   "outputs": [],
   "source": [
    "X_test = []\n",
    "y_test = []\n",
    "for i in crops_test:\n",
    "    X_test.append(i[0])\n",
    "    y_test.append(i[1])"
   ]
  },
  {
   "cell_type": "code",
   "execution_count": 67,
   "id": "bac3faf9",
   "metadata": {},
   "outputs": [],
   "source": [
    "X_train = np.array(X_train)\n",
    "X_test = np.array(X_test)"
   ]
  },
  {
   "cell_type": "code",
   "execution_count": 68,
   "id": "db44ca61",
   "metadata": {},
   "outputs": [],
   "source": [
    "y_train = to_categorical(label_encoder.transform(y_train))\n",
    "y_test = to_categorical(label_encoder.transform(y_test))"
   ]
  },
  {
   "cell_type": "code",
   "execution_count": 9,
   "id": "b87a841e",
   "metadata": {},
   "outputs": [
    {
     "name": "stdout",
     "output_type": "stream",
     "text": [
      "Counter({'zigzag': 753, 'sharpturn': 81, 'suddenbraking': 61, 'pothole': 41})\n"
     ]
    }
   ],
   "source": [
    "from collections import Counter\n",
    "counter = Counter(y_train)\n",
    "\n",
    "# Print the results\n",
    "print(counter)\n"
   ]
  },
  {
   "cell_type": "code",
   "execution_count": 10,
   "id": "68644203",
   "metadata": {},
   "outputs": [
    {
     "name": "stdout",
     "output_type": "stream",
     "text": [
      "Counter({'zigzag': 63, 'suddenbraking': 13, 'pothole': 6, 'sharpturn': 3})\n"
     ]
    }
   ],
   "source": [
    "from collections import Counter\n",
    "counter = Counter(y_test)\n",
    "\n",
    "# Print the results\n",
    "print(counter)\n"
   ]
  },
  {
   "cell_type": "code",
   "execution_count": 79,
   "id": "548d3352",
   "metadata": {},
   "outputs": [
    {
     "data": {
      "text/plain": [
       "(85, 500, 6)"
      ]
     },
     "execution_count": 79,
     "metadata": {},
     "output_type": "execute_result"
    }
   ],
   "source": [
    "X_test.shape"
   ]
  },
  {
   "cell_type": "markdown",
   "id": "db8c5d74",
   "metadata": {},
   "source": [
    "##### 3) Model Architecture"
   ]
  },
  {
   "cell_type": "code",
   "execution_count": 71,
   "id": "34a247ff",
   "metadata": {},
   "outputs": [],
   "source": [
    "clf = Sequential()\n",
    "#add model layers\n",
    "clf.add(Conv1D(16, kernel_size=5, activation=\"relu\", input_shape=(500, 6)))\n",
    "clf.add(Conv1D(32, kernel_size=5, activation=\"relu\"))\n",
    "\n",
    "clf.add(Flatten())\n",
    "clf.add(Dense(16, activation=\"relu\", kernel_regularizer=keras.regularizers.l2(0.01)))\n",
    "clf.add(Dense(4, activation=\"softmax\", kernel_regularizer=keras.regularizers.l2(0.01)))"
   ]
  },
  {
   "cell_type": "code",
   "execution_count": 72,
   "id": "d6f0f0f1",
   "metadata": {},
   "outputs": [],
   "source": [
    "clf.compile(optimizer=\"adam\", loss=\"categorical_crossentropy\", metrics=[\"accuracy\"])"
   ]
  },
  {
   "cell_type": "code",
   "execution_count": 73,
   "id": "c08e96af",
   "metadata": {},
   "outputs": [
    {
     "name": "stdout",
     "output_type": "stream",
     "text": [
      "Model: \"sequential_4\"\n",
      "_________________________________________________________________\n",
      " Layer (type)                Output Shape              Param #   \n",
      "=================================================================\n",
      " conv1d_8 (Conv1D)           (None, 496, 16)           496       \n",
      "                                                                 \n",
      " conv1d_9 (Conv1D)           (None, 492, 32)           2592      \n",
      "                                                                 \n",
      " flatten_4 (Flatten)         (None, 15744)             0         \n",
      "                                                                 \n",
      " dense_8 (Dense)             (None, 16)                251920    \n",
      "                                                                 \n",
      " dense_9 (Dense)             (None, 4)                 68        \n",
      "                                                                 \n",
      "=================================================================\n",
      "Total params: 255076 (996.39 KB)\n",
      "Trainable params: 255076 (996.39 KB)\n",
      "Non-trainable params: 0 (0.00 Byte)\n",
      "_________________________________________________________________\n"
     ]
    }
   ],
   "source": [
    "clf.summary()"
   ]
  },
  {
   "cell_type": "markdown",
   "id": "49d1862e",
   "metadata": {},
   "source": [
    "##### 4) Training the model"
   ]
  },
  {
   "cell_type": "code",
   "execution_count": 74,
   "id": "d926238a",
   "metadata": {},
   "outputs": [
    {
     "name": "stdout",
     "output_type": "stream",
     "text": [
      "Epoch 1/30\n",
      "30/30 [==============================] - 2s 21ms/step - loss: 0.9573 - accuracy: 0.8365 - val_loss: 0.7255 - val_accuracy: 0.8471\n",
      "Epoch 2/30\n",
      "30/30 [==============================] - 0s 14ms/step - loss: 0.4895 - accuracy: 0.9177 - val_loss: 0.5232 - val_accuracy: 0.8941\n",
      "Epoch 3/30\n",
      "30/30 [==============================] - 0s 15ms/step - loss: 0.3284 - accuracy: 0.9551 - val_loss: 0.3456 - val_accuracy: 0.9647\n",
      "Epoch 4/30\n",
      "30/30 [==============================] - 1s 20ms/step - loss: 0.2458 - accuracy: 0.9797 - val_loss: 0.2831 - val_accuracy: 0.9765\n",
      "Epoch 5/30\n",
      "30/30 [==============================] - 0s 14ms/step - loss: 0.1937 - accuracy: 0.9882 - val_loss: 0.2278 - val_accuracy: 0.9882\n",
      "Epoch 6/30\n",
      "30/30 [==============================] - 0s 15ms/step - loss: 0.1619 - accuracy: 0.9915 - val_loss: 0.2049 - val_accuracy: 0.9882\n",
      "Epoch 7/30\n",
      "30/30 [==============================] - 0s 15ms/step - loss: 0.1380 - accuracy: 0.9979 - val_loss: 0.2179 - val_accuracy: 0.9647\n",
      "Epoch 8/30\n",
      "30/30 [==============================] - 0s 15ms/step - loss: 0.1204 - accuracy: 0.9957 - val_loss: 0.1661 - val_accuracy: 0.9765\n",
      "Epoch 9/30\n",
      "30/30 [==============================] - 0s 15ms/step - loss: 0.1376 - accuracy: 0.9850 - val_loss: 0.1515 - val_accuracy: 0.9882\n",
      "Epoch 10/30\n",
      "30/30 [==============================] - 1s 18ms/step - loss: 0.1561 - accuracy: 0.9882 - val_loss: 0.3914 - val_accuracy: 0.9059\n",
      "Epoch 11/30\n",
      "30/30 [==============================] - 0s 16ms/step - loss: 0.2012 - accuracy: 0.9744 - val_loss: 0.2057 - val_accuracy: 0.9647\n",
      "Epoch 12/30\n",
      "30/30 [==============================] - 1s 17ms/step - loss: 0.1371 - accuracy: 0.9968 - val_loss: 0.1589 - val_accuracy: 0.9882\n",
      "Epoch 13/30\n",
      "30/30 [==============================] - 1s 17ms/step - loss: 0.1077 - accuracy: 0.9968 - val_loss: 0.1209 - val_accuracy: 0.9882\n",
      "Epoch 14/30\n",
      "30/30 [==============================] - 1s 19ms/step - loss: 0.0887 - accuracy: 1.0000 - val_loss: 0.1215 - val_accuracy: 0.9882\n",
      "Epoch 15/30\n",
      "30/30 [==============================] - 0s 16ms/step - loss: 0.0834 - accuracy: 0.9989 - val_loss: 0.1159 - val_accuracy: 0.9882\n",
      "Epoch 16/30\n",
      "30/30 [==============================] - 0s 16ms/step - loss: 0.0800 - accuracy: 0.9989 - val_loss: 0.1126 - val_accuracy: 0.9882\n",
      "Epoch 17/30\n",
      "30/30 [==============================] - 1s 19ms/step - loss: 0.0713 - accuracy: 0.9989 - val_loss: 0.0881 - val_accuracy: 1.0000\n",
      "Epoch 18/30\n",
      "30/30 [==============================] - 0s 15ms/step - loss: 0.0764 - accuracy: 0.9957 - val_loss: 0.1424 - val_accuracy: 0.9882\n",
      "Epoch 19/30\n",
      "30/30 [==============================] - 1s 19ms/step - loss: 0.1162 - accuracy: 0.9882 - val_loss: 0.1978 - val_accuracy: 0.9529\n",
      "Epoch 20/30\n",
      "30/30 [==============================] - 0s 16ms/step - loss: 0.1202 - accuracy: 0.9904 - val_loss: 0.1212 - val_accuracy: 1.0000\n",
      "Epoch 21/30\n",
      "30/30 [==============================] - 1s 19ms/step - loss: 0.0925 - accuracy: 0.9979 - val_loss: 0.0894 - val_accuracy: 1.0000\n",
      "Epoch 22/30\n",
      "30/30 [==============================] - 1s 17ms/step - loss: 0.0771 - accuracy: 1.0000 - val_loss: 0.0851 - val_accuracy: 1.0000\n",
      "Epoch 23/30\n",
      "30/30 [==============================] - 0s 17ms/step - loss: 0.0654 - accuracy: 1.0000 - val_loss: 0.0833 - val_accuracy: 1.0000\n",
      "Epoch 24/30\n",
      "30/30 [==============================] - 1s 17ms/step - loss: 0.0589 - accuracy: 1.0000 - val_loss: 0.0717 - val_accuracy: 1.0000\n",
      "Epoch 25/30\n",
      "30/30 [==============================] - 0s 17ms/step - loss: 0.0559 - accuracy: 1.0000 - val_loss: 0.0804 - val_accuracy: 1.0000\n",
      "Epoch 26/30\n",
      "30/30 [==============================] - 1s 18ms/step - loss: 0.0563 - accuracy: 1.0000 - val_loss: 0.0683 - val_accuracy: 1.0000\n",
      "Epoch 27/30\n",
      "30/30 [==============================] - 1s 19ms/step - loss: 0.0529 - accuracy: 1.0000 - val_loss: 0.0654 - val_accuracy: 1.0000\n",
      "Epoch 28/30\n",
      "30/30 [==============================] - 1s 20ms/step - loss: 0.0534 - accuracy: 0.9989 - val_loss: 0.0640 - val_accuracy: 1.0000\n",
      "Epoch 29/30\n",
      "30/30 [==============================] - 1s 19ms/step - loss: 0.0586 - accuracy: 1.0000 - val_loss: 0.0876 - val_accuracy: 0.9882\n",
      "Epoch 30/30\n",
      "30/30 [==============================] - 1s 18ms/step - loss: 0.0558 - accuracy: 1.0000 - val_loss: 0.0947 - val_accuracy: 0.9882\n"
     ]
    },
    {
     "data": {
      "text/plain": [
       "<keras.src.callbacks.History at 0x1ff417de550>"
      ]
     },
     "execution_count": 74,
     "metadata": {},
     "output_type": "execute_result"
    }
   ],
   "source": [
    "history=clf.fit(X_train, y_train, validation_data=(X_test, y_test), epochs=30)\n",
    "history"
   ]
  },
  {
   "cell_type": "markdown",
   "id": "900c361d",
   "metadata": {},
   "source": [
    "##### 5) Finding Training and Testing Accuracy"
   ]
  },
  {
   "cell_type": "code",
   "execution_count": 75,
   "id": "b301fb40",
   "metadata": {},
   "outputs": [
    {
     "data": {
      "image/png": "[encoded data removed]",
      "text/plain": [
       "<Figure size 640x480 with 1 Axes>"
      ]
     },
     "metadata": {},
     "output_type": "display_data"
    }
   ],
   "source": [
    "# Plot the training and testing accuracy\n",
    "plt.plot(history.history['accuracy'])\n",
    "plt.plot(history.history['val_accuracy'])\n",
    "plt.title('Model Accuracy')\n",
    "plt.ylabel('Accuracy')\n",
    "plt.xlabel('Epoch')\n",
    "plt.ylim([0, 1])\n",
    "plt.legend(['Train', 'Test'], loc='upper left')\n",
    "plt.show()"
   ]
  },
  {
   "cell_type": "code",
   "execution_count": 76,
   "id": "17203e50",
   "metadata": {},
   "outputs": [
    {
     "name": "stdout",
     "output_type": "stream",
     "text": [
      "3/3 [==============================] - 0s 5ms/step - loss: 0.0947 - accuracy: 0.9882\n"
     ]
    },
    {
     "data": {
      "text/plain": [
       "(0.09468407183885574, 0.9882352948188782)"
      ]
     },
     "execution_count": 76,
     "metadata": {},
     "output_type": "execute_result"
    }
   ],
   "source": [
    "test_loss,test_acc=clf.evaluate(X_test, y_test)\n",
    "test_loss,test_acc"
   ]
  },
  {
   "cell_type": "markdown",
   "id": "98b8e725",
   "metadata": {},
   "source": [
    "##### 6) Compute and plot the confusion matrix for the three classes"
   ]
  },
  {
   "cell_type": "code",
   "execution_count": 77,
   "id": "96315803",
   "metadata": {},
   "outputs": [
    {
     "name": "stdout",
     "output_type": "stream",
     "text": [
      "3/3 [==============================] - 0s 3ms/step\n",
      "               precision    recall  f1-score   support\n",
      "\n",
      "      pothole       0.98      1.00      0.99        63\n",
      "    sharpturn       1.00      1.00      1.00         3\n",
      "suddenbraking       1.00      1.00      1.00        13\n",
      "       zigzag       1.00      0.83      0.91         6\n",
      "\n",
      "     accuracy                           0.99        85\n",
      "    macro avg       1.00      0.96      0.98        85\n",
      " weighted avg       0.99      0.99      0.99        85\n",
      "\n"
     ]
    }
   ],
   "source": [
    "predictions=clf.predict(X_test)\n",
    "class_labels = [\"zigzag\", \"sharpturn\",\"suddenbraking\",  \"pothole\"]\n",
    "predicted_class_labels = [class_labels[np.argmax(pred)] for pred in predictions]\n",
    "actual_class_labels=[class_labels[np.argmax(actual)] for actual in y_test]\n",
    "print(classification_report(actual_class_labels, predicted_class_labels))"
   ]
  },
  {
   "cell_type": "code",
   "execution_count": 78,
   "id": "bbc61133",
   "metadata": {},
   "outputs": [
    {
     "data": {
      "image/png": "[encoded data removed]",
      "text/plain": [
       "<Figure size 800x600 with 2 Axes>"
      ]
     },
     "metadata": {},
     "output_type": "display_data"
    }
   ],
   "source": [
    "conf_matrix = confusion_matrix(actual_class_labels, predicted_class_labels, labels=class_labels)\n",
    "plt.figure(figsize=(8, 6))\n",
    "sns.heatmap(conf_matrix, annot=True, fmt=\"d\", cmap=\"Purples\", xticklabels=class_labels, yticklabels=class_labels)\n",
    "plt.title('Confusion Matrix')\n",
    "plt.xlabel('Predicted Labels')\n",
    "plt.ylabel('True Labels')\n",
    "plt.show()"
   ]
  },
  {
   "cell_type": "markdown",
   "id": "fb880f81",
   "metadata": {},
   "source": [
    "##### 7) Saving the final results in Excel sheet"
   ]
  },
  {
   "cell_type": "code",
   "execution_count": 43,
   "id": "585779ac",
   "metadata": {},
   "outputs": [
    {
     "name": "stdout",
     "output_type": "stream",
     "text": [
      "Precision per class: [0.93382353 0.95652174 0.8556231 ]\n",
      "Recall per class: [1.         0.17460317 0.99822695]\n"
     ]
    }
   ],
   "source": [
    "precision_per_class = precision_score(actual_class_labels, predicted_class_labels, average=None)\n",
    "recall_per_class = recall_score(actual_class_labels, predicted_class_labels, average=None)\n",
    "\n",
    "print(\"Precision per class:\", precision_per_class)\n",
    "print(\"Recall per class:\", recall_per_class)"
   ]
  },
  {
   "cell_type": "code",
   "execution_count": 44,
   "id": "57399a79",
   "metadata": {},
   "outputs": [
    {
     "name": "stdout",
     "output_type": "stream",
     "text": [
      "Micro F1 Score: 0.8714810281517748\n",
      "Macro F1 Score: 0.727507247656407\n"
     ]
    }
   ],
   "source": [
    "f1_micro = f1_score(actual_class_labels, predicted_class_labels, average='micro')\n",
    "f1_macro = f1_score(actual_class_labels, predicted_class_labels, average='macro')\n",
    "\n",
    "print(\"Micro F1 Score:\", f1_micro)\n",
    "print(\"Macro F1 Score:\", f1_macro)"
   ]
  },
  {
   "cell_type": "code",
   "execution_count": 23,
   "id": "ac5fcc5a",
   "metadata": {},
   "outputs": [
    {
     "ename": "NameError",
     "evalue": "name 'result' is not defined",
     "output_type": "error",
     "traceback": [
      "\u001b[1;31m---------------------------------------------------------------------------\u001b[0m",
      "\u001b[1;31mNameError\u001b[0m                                 Traceback (most recent call last)",
      "Cell \u001b[1;32mIn[23], line 2\u001b[0m\n\u001b[0;32m      1\u001b[0m data\u001b[38;5;241m=\u001b[39m{\u001b[38;5;124m'\u001b[39m\u001b[38;5;124mSimpleCNN_Results\u001b[39m\u001b[38;5;124m'\u001b[39m:[\u001b[38;5;28mmax\u001b[39m(history\u001b[38;5;241m.\u001b[39mhistory[\u001b[38;5;124m'\u001b[39m\u001b[38;5;124maccuracy\u001b[39m\u001b[38;5;124m'\u001b[39m]),test_acc,f1_micro,f1_macro,precision_per_class[\u001b[38;5;241m0\u001b[39m],precision_per_class[\u001b[38;5;241m1\u001b[39m],precision_per_class[\u001b[38;5;241m2\u001b[39m],recall_per_class[\u001b[38;5;241m0\u001b[39m],recall_per_class[\u001b[38;5;241m1\u001b[39m],recall_per_class[\u001b[38;5;241m2\u001b[39m]]}\n\u001b[1;32m----> 2\u001b[0m result[\u001b[38;5;124m'\u001b[39m\u001b[38;5;124mSimpleCNN_Results\u001b[39m\u001b[38;5;124m'\u001b[39m]\u001b[38;5;241m=\u001b[39mpd\u001b[38;5;241m.\u001b[39mDataFrame(data,index\u001b[38;5;241m=\u001b[39m[\u001b[38;5;124m'\u001b[39m\u001b[38;5;124mTraining Accuracy\u001b[39m\u001b[38;5;124m'\u001b[39m,\u001b[38;5;124m'\u001b[39m\u001b[38;5;124mTesting Accuracy\u001b[39m\u001b[38;5;124m'\u001b[39m,\u001b[38;5;124m'\u001b[39m\u001b[38;5;124mMicro F1 Score\u001b[39m\u001b[38;5;124m'\u001b[39m,\u001b[38;5;124m'\u001b[39m\u001b[38;5;124mMacro F1 Score\u001b[39m\u001b[38;5;124m'\u001b[39m,\u001b[38;5;124m'\u001b[39m\u001b[38;5;124mPrecision for Negative sentiment\u001b[39m\u001b[38;5;124m'\u001b[39m,\u001b[38;5;124m'\u001b[39m\u001b[38;5;124mPrecision for Positive sentiment\u001b[39m\u001b[38;5;124m'\u001b[39m,\u001b[38;5;124m'\u001b[39m\u001b[38;5;124mPrecision for Neutral sentiment\u001b[39m\u001b[38;5;124m'\u001b[39m,\u001b[38;5;124m'\u001b[39m\u001b[38;5;124mRecall for Negative sentiment\u001b[39m\u001b[38;5;124m'\u001b[39m,\u001b[38;5;124m'\u001b[39m\u001b[38;5;124mRecall for Positive sentiment\u001b[39m\u001b[38;5;124m'\u001b[39m,\u001b[38;5;124m'\u001b[39m\u001b[38;5;124mRecall for Neutral sentiment\u001b[39m\u001b[38;5;124m'\u001b[39m])\n\u001b[0;32m      3\u001b[0m result[\u001b[38;5;124m'\u001b[39m\u001b[38;5;124mSimpleCNN_Results\u001b[39m\u001b[38;5;124m'\u001b[39m]\n",
      "\u001b[1;31mNameError\u001b[0m: name 'result' is not defined"
     ]
    }
   ],
   "source": [
    "data={'SimpleCNN_Results':[max(history.history['accuracy']),test_acc,f1_micro,f1_macro,precision_per_class[0],precision_per_class[1],precision_per_class[2],recall_per_class[0],recall_per_class[1],recall_per_class[2]]}\n",
    "result['SimpleCNN_Results']=pd.DataFrame(data,index=['Training Accuracy','Testing Accuracy','Micro F1 Score','Macro F1 Score','Precision for Negative sentiment','Precision for Positive sentiment','Precision for Neutral sentiment','Recall for Negative sentiment','Recall for Positive sentiment','Recall for Neutral sentiment'])\n",
    "result['SimpleCNN_Results']"
   ]
  },
  {
   "cell_type": "code",
   "execution_count": null,
   "id": "df730a02",
   "metadata": {},
   "outputs": [],
   "source": [
    "result.to_csv('Results.csv', index=True)"
   ]
  },
  {
   "cell_type": "code",
   "execution_count": 80,
   "id": "ae51257b",
   "metadata": {},
   "outputs": [],
   "source": [
    "clf.save(\"CNNFinalClassifier.keras\")"
   ]
  },
  {
   "cell_type": "code",
   "execution_count": null,
   "id": "ed259bc6",
   "metadata": {},
   "outputs": [],
   "source": []
  },
  {
   "cell_type": "code",
   "execution_count": null,
   "id": "6009d983",
   "metadata": {},
   "outputs": [],
   "source": [
    "from keras.models import Sequential\n",
    "from keras.layers import Dense, LSTM, BatchNormalization\n",
    "from keras.optimizers import Adam\n",
    "from keras.callbacks import ReduceLROnPlateau, EarlyStopping\n",
    "from keras.regularizers import l2\n",
    "from time import time"
   ]
  },
  {
   "cell_type": "code",
   "execution_count": 81,
   "id": "2fccda9f",
   "metadata": {},
   "outputs": [
    {
     "name": "stdout",
     "output_type": "stream",
     "text": [
      "Epoch 1/30\n",
      "30/30 [==============================] - 39s 1s/step - loss: 2.1448 - accuracy: 0.8013 - val_loss: 1.9046 - val_accuracy: 0.7412\n",
      "Epoch 2/30\n",
      "30/30 [==============================] - 34s 1s/step - loss: 1.4367 - accuracy: 0.8045 - val_loss: 1.4075 - val_accuracy: 0.7412\n",
      "Epoch 3/30\n",
      "30/30 [==============================] - 37s 1s/step - loss: 1.0471 - accuracy: 0.8504 - val_loss: 1.2300 - val_accuracy: 0.7765\n",
      "Epoch 4/30\n",
      "30/30 [==============================] - 37s 1s/step - loss: 0.8453 - accuracy: 0.8771 - val_loss: 1.0553 - val_accuracy: 0.7765\n",
      "Epoch 5/30\n",
      "30/30 [==============================] - 29s 967ms/step - loss: 0.6752 - accuracy: 0.8964 - val_loss: 0.9866 - val_accuracy: 0.8235\n",
      "Epoch 6/30\n",
      "30/30 [==============================] - 28s 922ms/step - loss: 0.5933 - accuracy: 0.9092 - val_loss: 0.5996 - val_accuracy: 0.9294\n",
      "Epoch 7/30\n",
      "30/30 [==============================] - 28s 920ms/step - loss: 0.5310 - accuracy: 0.9252 - val_loss: 0.5781 - val_accuracy: 0.9294\n",
      "Epoch 8/30\n",
      "30/30 [==============================] - 28s 947ms/step - loss: 0.4635 - accuracy: 0.9284 - val_loss: 0.6071 - val_accuracy: 0.8824\n",
      "Epoch 9/30\n",
      "30/30 [==============================] - 31s 1s/step - loss: 0.4193 - accuracy: 0.9412 - val_loss: 0.6067 - val_accuracy: 0.8941\n",
      "Epoch 10/30\n",
      "30/30 [==============================] - 28s 940ms/step - loss: 0.3768 - accuracy: 0.9530 - val_loss: 0.7621 - val_accuracy: 0.8353\n",
      "Epoch 11/30\n",
      "30/30 [==============================] - 27s 884ms/step - loss: 0.3856 - accuracy: 0.9380 - val_loss: 0.7985 - val_accuracy: 0.7412\n",
      "Epoch 12/30\n",
      "30/30 [==============================] - 25s 845ms/step - loss: 0.3710 - accuracy: 0.9487 - val_loss: 0.5126 - val_accuracy: 0.9294\n",
      "Epoch 13/30\n",
      "30/30 [==============================] - 28s 951ms/step - loss: 0.3903 - accuracy: 0.9359 - val_loss: 0.5000 - val_accuracy: 0.9176\n",
      "Epoch 14/30\n",
      "30/30 [==============================] - 27s 894ms/step - loss: 0.3479 - accuracy: 0.9455 - val_loss: 0.4472 - val_accuracy: 0.9412\n",
      "Epoch 15/30\n",
      "30/30 [==============================] - 28s 938ms/step - loss: 0.3166 - accuracy: 0.9551 - val_loss: 0.5083 - val_accuracy: 0.8588\n",
      "Epoch 16/30\n",
      "30/30 [==============================] - 25s 819ms/step - loss: 0.3161 - accuracy: 0.9551 - val_loss: 0.4829 - val_accuracy: 0.9294\n",
      "Epoch 17/30\n",
      "30/30 [==============================] - 29s 975ms/step - loss: 0.3379 - accuracy: 0.9455 - val_loss: 0.4719 - val_accuracy: 0.8941\n",
      "Epoch 18/30\n",
      "30/30 [==============================] - 25s 829ms/step - loss: 0.3516 - accuracy: 0.9498 - val_loss: 0.4899 - val_accuracy: 0.8824\n",
      "Epoch 19/30\n",
      "30/30 [==============================] - 24s 808ms/step - loss: 0.3112 - accuracy: 0.9455 - val_loss: 0.4202 - val_accuracy: 0.9294\n",
      "Epoch 20/30\n",
      "30/30 [==============================] - 28s 945ms/step - loss: 0.2900 - accuracy: 0.9615 - val_loss: 0.5579 - val_accuracy: 0.8000\n",
      "Epoch 21/30\n",
      "30/30 [==============================] - 24s 812ms/step - loss: 0.2872 - accuracy: 0.9594 - val_loss: 0.3916 - val_accuracy: 0.9529\n",
      "Epoch 22/30\n",
      "30/30 [==============================] - 25s 822ms/step - loss: 0.3091 - accuracy: 0.9530 - val_loss: 0.6118 - val_accuracy: 0.8588\n",
      "Epoch 23/30\n",
      "30/30 [==============================] - 24s 811ms/step - loss: 0.2948 - accuracy: 0.9562 - val_loss: 0.3649 - val_accuracy: 0.9412\n",
      "Epoch 24/30\n",
      "30/30 [==============================] - 24s 786ms/step - loss: 0.2810 - accuracy: 0.9615 - val_loss: 0.3477 - val_accuracy: 0.9647\n",
      "Epoch 25/30\n",
      "30/30 [==============================] - 23s 765ms/step - loss: 0.2649 - accuracy: 0.9647 - val_loss: 0.4640 - val_accuracy: 0.8588\n",
      "Epoch 26/30\n",
      "30/30 [==============================] - 25s 852ms/step - loss: 0.2568 - accuracy: 0.9679 - val_loss: 0.7315 - val_accuracy: 0.7647\n",
      "Epoch 27/30\n",
      "30/30 [==============================] - 24s 799ms/step - loss: 0.3570 - accuracy: 0.9327 - val_loss: 0.4308 - val_accuracy: 0.9412\n",
      "Epoch 28/30\n",
      "30/30 [==============================] - 25s 821ms/step - loss: 0.2961 - accuracy: 0.9498 - val_loss: 0.3741 - val_accuracy: 0.9412\n",
      "Epoch 29/30\n",
      "30/30 [==============================] - 24s 811ms/step - loss: 0.2634 - accuracy: 0.9669 - val_loss: 0.5626 - val_accuracy: 0.8471\n",
      "Epoch 30/30\n",
      "30/30 [==============================] - 23s 761ms/step - loss: 0.2455 - accuracy: 0.9647 - val_loss: 0.4280 - val_accuracy: 0.8824\n"
     ]
    }
   ],
   "source": [
    "from tensorflow.keras.models import Sequential\n",
    "from tensorflow.keras.layers import TimeDistributed, Conv1D, MaxPooling1D, Flatten, LSTM, Dense\n",
    "from tensorflow.keras.regularizers import l2\n",
    "\n",
    "# Define the model with L2 regularization\n",
    "model = Sequential()\n",
    "\n",
    "# TimeDistributed(Conv1D()) layer with parameters and L2 regularization\n",
    "model.add(TimeDistributed(Conv1D(filters=16, kernel_size=3, activation='relu', kernel_regularizer=l2(0.01)), input_shape=(500, 6, 1)))\n",
    "\n",
    "# TimeDistributed(MaxPooling1D()) layer with parameters and padding\n",
    "model.add(TimeDistributed(MaxPooling1D(pool_size=2, padding='same')))\n",
    "\n",
    "# TimeDistributed(Conv1D()) layer with parameters and L2 regularization\n",
    "model.add(TimeDistributed(Conv1D(filters=8, kernel_size=3, activation='relu', padding='same', kernel_regularizer=l2(0.01))))\n",
    "\n",
    "# TimeDistributed(MaxPooling1D()) layer with parameters and padding\n",
    "model.add(TimeDistributed(MaxPooling1D(pool_size=2, padding='same')))\n",
    "\n",
    "# TimeDistributed(Conv1D()) layer with parameters and L2 regularization\n",
    "model.add(TimeDistributed(Conv1D(filters=64, kernel_size=3, activation='relu', padding='same', kernel_regularizer=l2(0.01))))\n",
    "\n",
    "# TimeDistributed(MaxPooling1D()) layer with parameters and padding\n",
    "model.add(TimeDistributed(MaxPooling1D(pool_size=2, padding='same')))\n",
    "\n",
    "# TimeDistributed(Conv1D()) layer with parameters and L2 regularization\n",
    "model.add(TimeDistributed(Conv1D(filters=8, kernel_size=3, activation='relu', padding='same', kernel_regularizer=l2(0.01))))\n",
    "\n",
    "# TimeDistributed(MaxPooling1D()) layer with parameters and padding\n",
    "model.add(TimeDistributed(MaxPooling1D(pool_size=2, padding='same')))\n",
    "\n",
    "# TimeDistributed(Flatten()) layer\n",
    "model.add(TimeDistributed(Flatten()))\n",
    "\n",
    "# Define LSTM model with parameters and L2 regularization\n",
    "model.add(LSTM(units=60, return_sequences=True, kernel_regularizer=l2(0.01)))\n",
    "\n",
    "# Additional LSTM layer with L2 regularization\n",
    "model.add(LSTM(units=70, return_sequences=True, kernel_regularizer=l2(0.01)))\n",
    "\n",
    "# Flatten layer outside TimeDistributed\n",
    "model.add(Flatten())\n",
    "\n",
    "# Dense layer with parameters and L2 regularization\n",
    "model.add(Dense(units=4, activation='softmax', kernel_regularizer=l2(0.01)))  # Adjust units to match the number of output classes\n",
    "\n",
    "model.compile(optimizer='adam', loss='categorical_crossentropy', metrics=['accuracy'])\n",
    "\n",
    "# Train the model\n",
    "cnnlstmHistory = model.fit(X_train, y_train, epochs=30, batch_size=32, validation_data=(X_test, y_test))"
   ]
  },
  {
   "cell_type": "code",
   "execution_count": null,
   "id": "9b5533f4",
   "metadata": {},
   "outputs": [],
   "source": []
  }
 ],
 "metadata": {
  "kernelspec": {
   "display_name": "Python 3 (ipykernel)",
   "language": "python",
   "name": "python3"
  },
  "language_info": {
   "codemirror_mode": {
    "name": "ipython",
    "version": 3
   },
   "file_extension": ".py",
   "mimetype": "text/x-python",
   "name": "python",
   "nbconvert_exporter": "python",
   "pygments_lexer": "ipython3",
   "version": "3.11.5"
  }
 },
 "nbformat": 4,
 "nbformat_minor": 5
}
