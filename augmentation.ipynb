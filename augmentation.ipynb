{
  "nbformat": 4,
  "nbformat_minor": 0,
  "metadata": {
    "colab": {
      "provenance": []
    },
    "kernelspec": {
      "name": "python3",
      "display_name": "Python 3"
    },
    "language_info": {
      "name": "python"
    }
  },
  "cells": [
    {
      "cell_type": "code",
      "execution_count": 2,
      "metadata": {
        "id": "57xiVlZ2ggZK"
      },
      "outputs": [],
      "source": [
        "import json\n",
        "import random\n",
        "\n",
        "# Functions for data augmentation\n",
        "def add_noise_to_hand(hand, noise_level=0.01):\n",
        "    return {k: v + random.uniform(-noise_level, noise_level) if k in ['x', 'y'] else v for k, v in hand.items()}\n",
        "\n",
        "def add_noise_to_frame(frame, noise_level=0.01):\n",
        "    return {hand: add_noise_to_hand(frame[hand], noise_level) for hand in frame}\n",
        "\n",
        "def mirror_hand_coordinates(hand):\n",
        "    return {k: 1 - v if k == 'x' else v for k, v in hand.items()}\n",
        "\n",
        "def mirror_frame_coordinates(frame):\n",
        "    return {hand: mirror_hand_coordinates(frame[hand]) for hand in frame}\n",
        "\n",
        "def scale_hand_coordinates(hand, scale_factor_range=(0.9, 1.1)):\n",
        "    scale_factor = random.uniform(*scale_factor_range)\n",
        "    return {k: v * scale_factor if k in ['x', 'y'] else v for k, v in hand.items()}\n",
        "\n",
        "def scale_frame_coordinates(frame, scale_factor_range=(0.9, 1.1)):\n",
        "    return {hand: scale_hand_coordinates(frame[hand], scale_factor_range) for hand in frame}\n",
        "\n"
      ]
    },
    {
      "cell_type": "code",
      "source": [
        "# Function to load data from JSON file\n",
        "def load_json_data(file_path):\n",
        "    with open(file_path, 'r') as file:\n",
        "        return json.load(file)\n",
        "\n",
        "# Function to save data to a JSON file\n",
        "def save_to_json(data, file_path):\n",
        "    augmented_file_path = file_path.replace('.json', '_augmented.json')\n",
        "    with open(augmented_file_path, 'w') as file:\n",
        "        json.dump(data, file)\n",
        "    return augmented_file_path\n",
        "\n",
        "# Loading the original data\n",
        "phone_file_path = '/content/phone - Copy (2)_landmarks_relative_positions.json'\n",
        "nphone_file_path = '/content/nphone - Copy (3)_landmarks_relative_positions.json'\n",
        "\n",
        "phone_data = load_json_data(phone_file_path)\n",
        "nphone_data = load_json_data(nphone_file_path)\n",
        "\n",
        "\n"
      ],
      "metadata": {
        "id": "V4EnU0dGg68j"
      },
      "execution_count": 3,
      "outputs": []
    },
    {
      "cell_type": "code",
      "source": [
        "# Applying the augmentations\n",
        "augmented_phone_data = [add_noise_to_frame(frame) for frame in phone_data]\n",
        "augmented_phone_data += [mirror_frame_coordinates(frame) for frame in phone_data]\n",
        "augmented_phone_data += [scale_frame_coordinates(frame) for frame in phone_data]\n",
        "\n",
        "augmented_nphone_data = [add_noise_to_frame(frame) for frame in nphone_data]\n",
        "augmented_nphone_data += [mirror_frame_coordinates(frame) for frame in nphone_data]\n",
        "augmented_nphone_data += [scale_frame_coordinates(frame) for frame in nphone_data]\n",
        "\n",
        "# Saving the augmented data\n",
        "augmented_phone_file_path = save_to_json(augmented_phone_data, phone_file_path)\n",
        "augmented_nphone_file_path = save_to_json(augmented_nphone_data, nphone_file_path)"
      ],
      "metadata": {
        "id": "UNl74egHhIoE"
      },
      "execution_count": 4,
      "outputs": []
    },
    {
      "cell_type": "code",
      "source": [],
      "metadata": {
        "id": "L7PwLmZbixc5"
      },
      "execution_count": null,
      "outputs": []
    }
  ]
}