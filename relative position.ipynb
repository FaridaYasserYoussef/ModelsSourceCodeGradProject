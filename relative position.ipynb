{
  "nbformat": 4,
  "nbformat_minor": 0,
  "metadata": {
    "colab": {
      "provenance": []
    },
    "kernelspec": {
      "name": "python3",
      "display_name": "Python 3"
    },
    "language_info": {
      "name": "python"
    }
  },
  "cells": [
    {
      "cell_type": "code",
      "execution_count": 1,
      "metadata": {
        "id": "57xiVlZ2ggZK"
      },
      "outputs": [],
      "source": [
        "import json\n",
        "\n",
        "def calculate_relative_positions(data, nose_index=0, left_wrist_index=15, right_wrist_index=16):\n",
        "    relative_positions = []\n",
        "\n",
        "    for frame in data:\n",
        "        if len(frame) > max(nose_index, left_wrist_index, right_wrist_index):\n",
        "            nose = frame[nose_index]\n",
        "            left_wrist = frame[left_wrist_index]\n",
        "            right_wrist = frame[right_wrist_index]\n",
        "\n",
        "            left_hand_relative = {'x': left_wrist['x'] - nose['x'], 'y': left_wrist['y'] - nose['y']}\n",
        "            right_hand_relative = {'x': right_wrist['x'] - nose['x'], 'y': right_wrist['y'] - nose['y']}\n",
        "\n",
        "            relative_positions.append({'left_hand': left_hand_relative, 'right_hand': right_hand_relative})\n",
        "\n",
        "    return relative_positions\n",
        "\n"
      ]
    },
    {
      "cell_type": "code",
      "source": [
        "def process_and_save_relative_positions(phone_file_path, nphone_file_path):\n",
        "    # Read JSON data\n",
        "    with open(phone_file_path, 'r') as file:\n",
        "        phone_data = json.load(file)\n",
        "\n",
        "    with open(nphone_file_path, 'r') as file:\n",
        "        nphone_data = json.load(file)\n",
        "\n",
        "    # Process data\n",
        "    relative_positions_phone = calculate_relative_positions(phone_data)\n",
        "    relative_positions_nphone = calculate_relative_positions(nphone_data)\n",
        "\n",
        "\n"
      ],
      "metadata": {
        "id": "V4EnU0dGg68j"
      },
      "execution_count": null,
      "outputs": []
    },
    {
      "cell_type": "code",
      "source": [
        "    # Save results to JSON files\n",
        "    phone_output_path = phone_file_path.replace('.json', '_relative_positions.json')\n",
        "    nphone_output_path = nphone_file_path.replace('.json', '_relative_positions.json')\n",
        "\n",
        "    with open(phone_output_path, 'w') as file:\n",
        "        json.dump(relative_positions_phone, file)\n",
        "\n",
        "    with open(nphone_output_path, 'w') as file:\n",
        "        json.dump(relative_positions_nphone, file)\n",
        "\n",
        "    return phone_output_path, nphone_output_path\n",
        "\n",
        "# File paths for the phone and nphone JSON files\n",
        "phone_file_path = '/content/phone - Copy (2)_landmarks.json'\n",
        "nphone_file_path = '/content/nphone - Copy (3)_landmarks.json'\n",
        "\n",
        "# Process the files and save the results\n",
        "phone_output_path, nphone_output_path = process_and_save_relative_positions(phone_file_path, nphone_file_path)"
      ],
      "metadata": {
        "id": "UNl74egHhIoE"
      },
      "execution_count": null,
      "outputs": []
    }
  ]
}