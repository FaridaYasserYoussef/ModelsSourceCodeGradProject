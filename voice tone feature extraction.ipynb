{
 "cells": [
  {
   "cell_type": "code",
   "execution_count": 2,
   "id": "b36b5f9b",
   "metadata": {},
   "outputs": [],
   "source": [
    "import librosa\n",
    "x, sr = librosa.load(r\"C:\\Users\\user\\Downloads\\voicetoneFeatures\\neutral\\1091_TAI_NEU_XX.wav\")\n"
   ]
  },
  {
   "cell_type": "code",
   "execution_count": 43,
   "id": "ff569f08",
   "metadata": {},
   "outputs": [],
   "source": [
    "import os\n",
    "low = os.listdir(\"neutral\")\n",
    "high = os.listdir(\"angry\")"
   ]
  },
  {
   "cell_type": "code",
   "execution_count": 44,
   "id": "d1324960",
   "metadata": {},
   "outputs": [],
   "source": [
    "import csv\n",
    "\n",
    "header = [\"mean\", \"std\", \"maxv\", \"minv\", \"median\", \"skew\", \"kurt\", \"q1\", \"q3\", \"mode\", \"iqr\", \"rmse\", \"energy\", \"zero_crossings\", \"tempo\", \"mfccs_mean\", \"mfccs_var\", \"mfccs_min\", \"mfccs_max\", \"mfccs_median\", \"spec_centroid\", \"spectral_bandwidth\", \"spectral_contrast\", \"spectral_flatness\", \"spectral_rolloff\", \"label\"]\n",
    "\n",
    "with open('vtdata.csv', 'w', newline='') as csvfile:\n",
    "    writer = csv.writer(csvfile)\n",
    "    writer.writerow(header)\n"
   ]
  },
  {
   "cell_type": "code",
   "execution_count": 36,
   "id": "b7b900fa",
   "metadata": {},
   "outputs": [],
   "source": [
    "import numpy as np\n",
    "import scipy\n",
    "\n",
    "def describe_freq(freqs):\n",
    "    mean = np.mean(freqs)\n",
    "    std = np.std(freqs) \n",
    "    maxv = np.amax(freqs) \n",
    "    minv = np.amin(freqs) \n",
    "    median = np.median(freqs)\n",
    "    skew = scipy.stats.skew(freqs)\n",
    "    kurt = scipy.stats.kurtosis(freqs)\n",
    "    q1 = np.quantile(freqs, 0.25)\n",
    "    q3 = np.quantile(freqs, 0.75)\n",
    "    mode = scipy.stats.mode(freqs)[0]\n",
    "    iqr = scipy.stats.iqr(freqs)\n",
    "    \n",
    "    return [mean, std, maxv, minv, median, skew, kurt, q1, q3, mode, iqr]"
   ]
  },
  {
   "cell_type": "code",
   "execution_count": 37,
   "id": "4c15e37b",
   "metadata": {},
   "outputs": [],
   "source": [
    "def energy(x):\n",
    "    return np.sum(x**2)\n",
    "def rmse(x):\n",
    "    return np.sqrt(np.mean(x**2))\n"
   ]
  },
  {
   "cell_type": "code",
   "execution_count": 45,
   "id": "e2add942",
   "metadata": {},
   "outputs": [
    {
     "name": "stderr",
     "output_type": "stream",
     "text": [
      "C:\\Users\\user\\AppData\\Local\\Temp\\ipykernel_15292\\1461076122.py:12: FutureWarning: librosa.beat.tempo\n",
      "\tThis function was moved to 'librosa.feature.rhythm.tempo' in librosa version 0.10.0.\n",
      "\tThis alias will be removed in librosa version 1.0.\n",
      "  tempo = librosa.beat.tempo(y = x)[0]\n"
     ]
    }
   ],
   "source": [
    "for i in low:\n",
    "    listoffeatures = []\n",
    "    x, sr = librosa.load(\"neutral/\"+i)\n",
    "    freqs = np.fft.fftfreq(x.size)\n",
    "    listoffeatures = describe_freq(freqs)\n",
    "    rmsefeature = rmse(x)\n",
    "    listoffeatures.append(rmsefeature)\n",
    "    energyfeature = energy(x)\n",
    "    listoffeatures.append(energyfeature)\n",
    "    zero_crossings = sum(librosa.zero_crossings(x, pad=False))\n",
    "    listoffeatures.append(zero_crossings)\n",
    "    tempo = librosa.beat.tempo(y = x)[0]\n",
    "    listoffeatures.append(tempo)\n",
    "    mfccs_mean = np.mean(np.mean(mfccs, axis=1))  # Mean along each MFCC coefficient\n",
    "    listoffeatures.append(mfccs_mean)\n",
    "    mfccs_var = np.mean(np.var(mfccs, axis=1))    # Variance along each MFCC coefficient\n",
    "    listoffeatures.append(mfccs_var)\n",
    "    mfccs_min = np.mean(np.min(mfccs, axis=1))   # Minimum along each MFCC coefficient\n",
    "    listoffeatures.append(mfccs_min)\n",
    "    mfccs_max = np.mean(np.max(mfccs, axis=1))    # Maximum along each MFCC coefficient\n",
    "    listoffeatures.append(mfccs_max)\n",
    "    mfccs_median = np.mean(np.median(mfccs, axis=1))  # Median along each MFCC coefficient\n",
    "    listoffeatures.append(mfccs_median)\n",
    "    spec_centroid = np.mean(librosa.feature.spectral_centroid(y= x)[0])\n",
    "    listoffeatures.append(spec_centroid)\n",
    "    spectral_bandwidth= np.mean(librosa.feature.spectral_bandwidth(y = x)[0])\n",
    "    listoffeatures.append(spectral_bandwidth)\n",
    "    spectral_contrast= np.mean(librosa.feature.spectral_contrast(y = x)[0])\n",
    "    listoffeatures.append(spectral_contrast)\n",
    "    spectral_flatness= np.mean(librosa.feature.spectral_flatness(y = x)[0])\n",
    "    listoffeatures.append(spectral_flatness)\n",
    "    spectral_rolloff=np.mean(librosa.feature.spectral_rolloff(y = x)[0])\n",
    "    listoffeatures.append(spectral_rolloff)\n",
    "    listoffeatures.append(0)\n",
    "    with open('vtdata.csv', 'a', newline='') as csvfile:\n",
    "        writer = csv.writer(csvfile)\n",
    "        writer.writerow(listoffeatures)\n"
   ]
  },
  {
   "cell_type": "code",
   "execution_count": 46,
   "id": "12ef790f",
   "metadata": {},
   "outputs": [
    {
     "name": "stderr",
     "output_type": "stream",
     "text": [
      "C:\\Users\\user\\AppData\\Local\\Temp\\ipykernel_15292\\1986945270.py:12: FutureWarning: librosa.beat.tempo\n",
      "\tThis function was moved to 'librosa.feature.rhythm.tempo' in librosa version 0.10.0.\n",
      "\tThis alias will be removed in librosa version 1.0.\n",
      "  tempo = librosa.beat.tempo(y = x)[0]\n"
     ]
    }
   ],
   "source": [
    "for i in high:\n",
    "    listoffeatures = []\n",
    "    x, sr = librosa.load(\"angry/\"+i)\n",
    "    freqs = np.fft.fftfreq(x.size)\n",
    "    listoffeatures = describe_freq(freqs)\n",
    "    rmsefeature = rmse(x)\n",
    "    listoffeatures.append(rmsefeature)\n",
    "    energyfeature = energy(x)\n",
    "    listoffeatures.append(energyfeature)\n",
    "    zero_crossings = sum(librosa.zero_crossings(x, pad=False))\n",
    "    listoffeatures.append(zero_crossings)\n",
    "    tempo = librosa.beat.tempo(y = x)[0]\n",
    "    listoffeatures.append(tempo)\n",
    "    mfccs_mean = np.mean(np.mean(mfccs, axis=1))  # Mean along each MFCC coefficient\n",
    "    listoffeatures.append(mfccs_mean)\n",
    "    mfccs_var = np.mean(np.var(mfccs, axis=1))    # Variance along each MFCC coefficient\n",
    "    listoffeatures.append(mfccs_var)\n",
    "    mfccs_min = np.mean(np.min(mfccs, axis=1))   # Minimum along each MFCC coefficient\n",
    "    listoffeatures.append(mfccs_min)\n",
    "    mfccs_max = np.mean(np.max(mfccs, axis=1))    # Maximum along each MFCC coefficient\n",
    "    listoffeatures.append(mfccs_max)\n",
    "    mfccs_median = np.mean(np.median(mfccs, axis=1))  # Median along each MFCC coefficient\n",
    "    listoffeatures.append(mfccs_median)\n",
    "    spec_centroid = np.mean(librosa.feature.spectral_centroid(y= x)[0])\n",
    "    listoffeatures.append(spec_centroid)\n",
    "    spectral_bandwidth= np.mean(librosa.feature.spectral_bandwidth(y = x)[0])\n",
    "    listoffeatures.append(spectral_bandwidth)\n",
    "    spectral_contrast= np.mean(librosa.feature.spectral_contrast(y = x)[0])\n",
    "    listoffeatures.append(spectral_contrast)\n",
    "    spectral_flatness= np.mean(librosa.feature.spectral_flatness(y = x)[0])\n",
    "    listoffeatures.append(spectral_flatness)\n",
    "    spectral_rolloff=np.mean(librosa.feature.spectral_rolloff(y = x)[0])\n",
    "    listoffeatures.append(spectral_rolloff)\n",
    "    listoffeatures.append(1)\n",
    "    with open('vtdata.csv', 'a', newline='') as csvfile:\n",
    "        writer = csv.writer(csvfile)\n",
    "        writer.writerow(listoffeatures)\n"
   ]
  },
  {
   "cell_type": "code",
   "execution_count": null,
   "id": "2391f81b",
   "metadata": {},
   "outputs": [],
   "source": []
  },
  {
   "cell_type": "code",
   "execution_count": null,
   "id": "f4226865",
   "metadata": {},
   "outputs": [],
   "source": []
  },
  {
   "cell_type": "code",
   "execution_count": null,
   "id": "6adf04ef",
   "metadata": {},
   "outputs": [],
   "source": []
  },
  {
   "cell_type": "code",
   "execution_count": null,
   "id": "43a12037",
   "metadata": {},
   "outputs": [],
   "source": []
  },
  {
   "cell_type": "code",
   "execution_count": null,
   "id": "f4a1f9c8",
   "metadata": {},
   "outputs": [],
   "source": []
  },
  {
   "cell_type": "code",
   "execution_count": null,
   "id": "60e20526",
   "metadata": {},
   "outputs": [],
   "source": []
  }
 ],
 "metadata": {
  "kernelspec": {
   "display_name": "Python 3 (ipykernel)",
   "language": "python",
   "name": "python3"
  },
  "language_info": {
   "codemirror_mode": {
    "name": "ipython",
    "version": 3
   },
   "file_extension": ".py",
   "mimetype": "text/x-python",
   "name": "python",
   "nbconvert_exporter": "python",
   "pygments_lexer": "ipython3",
   "version": "3.11.5"
  }
 },
 "nbformat": 4,
 "nbformat_minor": 5
}
