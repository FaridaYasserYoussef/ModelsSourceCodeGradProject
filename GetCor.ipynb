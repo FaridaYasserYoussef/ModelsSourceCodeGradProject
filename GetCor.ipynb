{
  "cells": [
    {
      "cell_type": "code",
      "execution_count": 1,
      "metadata": {
        "id": "qbQBmuNORdJU"
      },
      "outputs": [
        {
          "name": "stderr",
          "output_type": "stream",
          "text": [
            "d:\\Anaconda\\lib\\site-packages\\scipy\\__init__.py:146: UserWarning: A NumPy version >=1.16.5 and <1.23.0 is required for this version of SciPy (detected version 1.26.2\n",
            "  warnings.warn(f\"A NumPy version >={np_minversion} and <{np_maxversion}\"\n"
          ]
        }
      ],
      "source": [
        "import cv2\n",
        "import mediapipe as mp\n",
        "import json\n",
        "import os\n"
      ]
    },
    {
      "cell_type": "code",
      "execution_count": 7,
      "metadata": {
        "id": "kWDq2dM5RhEv"
      },
      "outputs": [],
      "source": [
        "# process single video\n",
        "def process_video(video_path):\n",
        "    cap = cv2.VideoCapture(video_path)\n",
        "    all_landmarks = []\n",
        "\n",
        "    while cap.isOpened():\n",
        "        ret, frame = cap.read()\n",
        "        if not ret:\n",
        "            break\n",
        "\n",
        "        frame_rgb = cv2.cvtColor(frame, cv2.COLOR_BGR2RGB)\n",
        "        results = pose.process(frame_rgb)\n",
        "\n",
        "        if results.pose_landmarks:\n",
        "            landmarks = [{'x': lm.x, 'y': lm.y, 'z': lm.z, 'visibility': lm.visibility} for lm in results.pose_landmarks.landmark]\n",
        "            all_landmarks.append(landmarks)\n",
        "\n",
        "    cap.release()\n",
        "    return all_landmarks"
      ]
    },
    {
      "cell_type": "code",
      "execution_count": 8,
      "metadata": {
        "id": "YpK1ZJ5_SUjk"
      },
      "outputs": [],
      "source": [
        "# MediaPipe Pose module\n",
        "mp_pose = mp.solutions.pose\n",
        "pose = mp_pose.Pose(static_image_mode=False, model_complexity=1, smooth_landmarks=True)\n",
        "\n",
        "# List of video \n",
        "video_files = ['nphone - Copy (2).mp4','nphone - Copy (3).mp4',\n",
        "'nphone - Copy (4).mp4','nphone - Copy (5).mp4','nphone - Copy (6).mp4','nphone - Copy (7).mp4','nphone - Copy (8).mp4',\n",
        "'nphone - Copy (9).mp4','nphone - Copy (10).mp4','nphone - Copy (11).mp4','nphone - Copy (12).mp4','nphone - Copy (13).mp4','nphone - Copy (14).mp4',\n",
        "'nphone - Copy (15).mp4','nphone - Copy (16).mp4','nphone - Copy (17).mp4','nphone - Copy (18).mp4','nphone - Copy (19).mp4',\n",
        "'nphone - Copy (20).mp4','nphone - Copy (21).mp4','nphone - Copy (22).mp4','nphone - Copy (23).mp4','nphone - Copy (24).mp4',\n",
        "'nphone - Copy (25).mp4','nphone - Copy (26).mp4','nphone - Copy (27).mp4','nphone - Copy (28).mp4', ]  "
      ]
    },
    {
      "cell_type": "code",
      "execution_count": 9,
      "metadata": {
        "id": "ohi15T02SaJO"
      },
      "outputs": [],
      "source": [
        "# Process each video and save landmarks\n",
        "for video_file in video_files:\n",
        "    landmarks = process_video(video_file)\n",
        "    json_file = os.path.splitext(video_file)[0] + '_landmarks.json'\n",
        "\n",
        "    with open(json_file, 'w') as f:\n",
        "        json.dump(landmarks, f)\n",
        "\n",
        "pose.close()"
      ]
    },
    {
      "cell_type": "code",
      "execution_count": null,
      "metadata": {},
      "outputs": [],
      "source": []
    }
  ],
  "metadata": {
    "colab": {
      "provenance": []
    },
    "kernelspec": {
      "display_name": "Python 3",
      "name": "python3"
    },
    "language_info": {
      "codemirror_mode": {
        "name": "ipython",
        "version": 3
      },
      "file_extension": ".py",
      "mimetype": "text/x-python",
      "name": "python",
      "nbconvert_exporter": "python",
      "pygments_lexer": "ipython3",
      "version": "3.9.7"
    }
  },
  "nbformat": 4,
  "nbformat_minor": 0
}
