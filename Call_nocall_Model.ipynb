{
  "cells": [
    {
      "cell_type": "code",
      "execution_count": 5,
      "metadata": {
        "id": "57xiVlZ2ggZK"
      },
      "outputs": [],
      "source": [
        "import json\n",
        "import numpy as np\n",
        "import random\n",
        "from sklearn.model_selection import train_test_split\n",
        "from sklearn.linear_model import LogisticRegression\n",
        "from sklearn.metrics import classification_report\n",
        "\n",
        "# Function to load data from JSON file\n",
        "def load_json_data(file_path):\n",
        "    with open(file_path, 'r') as file:\n",
        "        return json.load(file)\n",
        "\n",
        "# Prepare the data for the machine learning model\n",
        "def prepare_data(phone_data, nphone_data):\n",
        "    features = []\n",
        "    labels = []\n",
        "\n",
        "    # Processing phone data (label 1)\n",
        "    for frame in phone_data:\n",
        "        features.append([frame['left_hand']['x'], frame['left_hand']['y'],\n",
        "                         frame['right_hand']['x'], frame['right_hand']['y']])\n",
        "        labels.append(1)\n",
        "\n",
        "    # Processing nphone data (label 0)\n",
        "    for frame in nphone_data:\n",
        "        features.append([frame['left_hand']['x'], frame['left_hand']['y'],\n",
        "                         frame['right_hand']['x'], frame['right_hand']['y']])\n",
        "        labels.append(0)\n",
        "\n",
        "    return np.array(features), np.array(labels)\n",
        "\n"
      ]
    },
    {
      "cell_type": "code",
      "execution_count": null,
      "metadata": {
        "colab": {
          "base_uri": "https://localhost:8080/"
        },
        "id": "V4EnU0dGg68j",
        "outputId": "a0d416df-9c71-4466-e9bb-67fdbab9fc31"
      },
      "outputs": [],
      "source": [
        "# Load augmented data\n",
        "augmented_phone_file_path = '/content/phone - Copy (2)_landmarks_relative_positions_augmented.json'\n",
        "augmented_nphone_file_path = '/content/nphone - Copy (3)_landmarks_relative_positions_augmented.json'\n",
        "augmented_phone_data = load_json_data(augmented_phone_file_path)\n",
        "augmented_nphone_data = load_json_data(augmented_nphone_file_path)\n",
        "\n",
        "# Prepare features and labels\n",
        "X_augmented, y_augmented = prepare_data(augmented_phone_data, augmented_nphone_data)\n",
        "\n",
        "# Split data into training and testing sets\n",
        "X_train_aug, X_test_aug, y_train_aug, y_test_aug = train_test_split(X_augmented, y_augmented, test_size=0.2, random_state=42)\n",
        "\n",
        "# Initialize and train the Logistic Regression model\n",
        "model_augmented = LogisticRegression()\n",
        "model_augmented.fit(X_train_aug, y_train_aug)\n",
        "\n",
        "# Evaluate the model\n",
        "predictions_augmented = model_augmented.predict(X_test_aug)\n",
        "report_augmented = classification_report(y_test_aug, predictions_augmented)\n",
        "\n",
        "print(report_augmented)\n"
      ]
    },
    {
      "cell_type": "code",
      "execution_count": null,
      "metadata": {
        "id": "ZimnSGC5kM5E"
      },
      "outputs": [],
      "source": []
    }
  ],
  "metadata": {
    "colab": {
      "provenance": []
    },
    "kernelspec": {
      "display_name": "Python 3",
      "name": "python3"
    },
    "language_info": {
      "name": "python"
    }
  },
  "nbformat": 4,
  "nbformat_minor": 0
}
